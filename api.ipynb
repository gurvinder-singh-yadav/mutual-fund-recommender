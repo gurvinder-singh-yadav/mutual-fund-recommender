{
 "cells": [
  {
   "cell_type": "code",
   "execution_count": 41,
   "metadata": {},
   "outputs": [],
   "source": [
    "import datetime\n",
    "import pandas as pd\n",
    "import re"
   ]
  },
  {
   "cell_type": "code",
   "execution_count": 2,
   "metadata": {},
   "outputs": [],
   "source": [
    "df = pd.read_csv(\"data/stock_info.csv\")"
   ]
  },
  {
   "cell_type": "code",
   "execution_count": 3,
   "metadata": {},
   "outputs": [
    {
     "data": {
      "text/plain": [
       "0      True\n",
       "1     False\n",
       "2     False\n",
       "3     False\n",
       "4     False\n",
       "      ...  \n",
       "56    False\n",
       "57    False\n",
       "58    False\n",
       "59    False\n",
       "60    False\n",
       "Name: name, Length: 61, dtype: bool"
      ]
     },
     "execution_count": 3,
     "metadata": {},
     "output_type": "execute_result"
    }
   ],
   "source": [
    "df[\"name\"] == \"Axis Bank Ltd.\""
   ]
  },
  {
   "cell_type": "code",
   "execution_count": 31,
   "metadata": {},
   "outputs": [],
   "source": [
    "def get_news(date):\n",
    "    df = pd.read_csv(\"data/news_process.csv\")\n",
    "    df = df[df[\"date\"] == date]\n",
    "    return df.to_dict(\"list\")     "
   ]
  },
  {
   "cell_type": "code",
   "execution_count": 32,
   "metadata": {},
   "outputs": [],
   "source": [
    "date = str(datetime.date.today())"
   ]
  },
  {
   "cell_type": "code",
   "execution_count": 33,
   "metadata": {},
   "outputs": [
    {
     "data": {
      "text/plain": [
       "'2023-04-28'"
      ]
     },
     "execution_count": 33,
     "metadata": {},
     "output_type": "execute_result"
    }
   ],
   "source": [
    "date"
   ]
  },
  {
   "cell_type": "code",
   "execution_count": 34,
   "metadata": {},
   "outputs": [
    {
     "data": {
      "text/plain": [
       "{'title': ['Buy Voltas, target price Rs 1005: BNP Paribas Securities',\n",
       "  'Buy UTI Asset Management Company, target price Rs 770: HDFC Securities',\n",
       "  'Sell Shoppers Stop, target price Rs 520: HDFC Securities',\n",
       "  'Buy Kotak Mahindra Bank, target price Rs 1936 : ICICI Direct',\n",
       "  'Buy Mahindra & Mahindra, target price Rs 1243: ICICI Direct',\n",
       "  'Buy Infosys, target price Rs 1600: ICICI Direct',\n",
       "  'Buy Motilal Oswal Financial Services, target price Rs 790: ICICI Direct',\n",
       "  'Buy Star Health and Allied Insurance Company, target price Rs 650: ICICI Direct',\n",
       "  'Buy SBI Life Insurance Company, target price Rs 1350: ICICI Direct',\n",
       "  'Buy Coforge, target price Rs 4725: ICICI Direct',\n",
       "  'Hold IIFL Securities, target price Rs 65: ICICI Direct'],\n",
       " 'link': ['https://economictimes.indiatimes.com/markets/stocks/recos/buy-voltas-target-price-rs-1005-bnp-paribas-securities/articleshow/99839533.cms',\n",
       "  'https://economictimes.indiatimes.com/markets/stocks/recos/buy-uti-asset-management-company-target-price-rs-770-hdfc-securities/articleshow/99839198.cms',\n",
       "  'https://economictimes.indiatimes.com/markets/stocks/recos/sell-shoppers-stop-target-price-rs-520-hdfc-securities/articleshow/99838855.cms',\n",
       "  'https://economictimes.indiatimes.com/markets/stocks/recos/buy-kotak-mahindra-bank-target-price-rs-1936-icici-direct/articleshow/99836176.cms',\n",
       "  'https://economictimes.indiatimes.com/markets/stocks/recos/buy-mahindra-amp-mahindra-target-price-rs-1243-icici-direct/articleshow/99835202.cms',\n",
       "  'https://economictimes.indiatimes.com/markets/stocks/recos/buy-infosys-target-price-rs-1600-icici-direct/articleshow/99835066.cms',\n",
       "  'https://economictimes.indiatimes.com/markets/stocks/recos/buy-motilal-oswal-financial-services-target-price-rs-790-icici-direct/articleshow/99834105.cms',\n",
       "  'https://economictimes.indiatimes.com/markets/stocks/recos/buy-star-health-and-allied-insurance-company-target-price-rs-650-icici-direct/articleshow/99833563.cms',\n",
       "  'https://economictimes.indiatimes.com/markets/stocks/recos/buy-sbi-life-insurance-company-target-price-rs-1350-icici-direct/articleshow/99833473.cms',\n",
       "  'https://economictimes.indiatimes.com/markets/stocks/recos/buy-coforge-target-price-rs-4725-icici-direct/articleshow/99833103.cms',\n",
       "  'https://economictimes.indiatimes.com/markets/stocks/recos/hold-iifl-securities-target-price-rs-65-icici-direct/articleshow/99832756.cms'],\n",
       " 'text': ['Promoters held 30.3 per cent stake in the company as of 31-Mar-2023, while FIIs owned 20.58 per cent, DIIs 32.69 per cent.',\n",
       "  'The brokerage expects the company to deliver 6%/12% revenue/operating profit CAGR over FY23- 25E on the back of healthy AUM growth and marginal cost rationalisation.',\n",
       "  'Promoters held 65.46 per cent stake in the company as of 31-Mar-2023, while FIIs owned 6.82 per cent, DIIs 20.81 per cent.',\n",
       "  'Promoters held 25.95 per cent stake in the company as of 31-Mar-2023, while FIIs owned 39.42 per cent, DIIs 21.08 per cent.',\n",
       "  'Price on verge of breakout after consolidating above 20 day EMA, signalingfurther upsides in coming sessions',\n",
       "  'Infosys key Products/Revenue Segments include Software Development Charges and Software Products for the year ending 31-Mar-2022.',\n",
       "  'Motilal Oswal Financial is a diversified financial services company, whichincludes broking, wealth/asset management, housing and PE',\n",
       "  'Promoters held 58.28 per cent stake in the company as of 31-Mar-2023, while FIIs owned 35.24 per cent, DIIs 1.44 per cent.',\n",
       "  'SBI Life Insurance Company, incorporated in the year 2000, is a Large Cap company (having a market cap of Rs 113806.74 Crore) operating in Financial Services sector.',\n",
       "  'Coforge, incorporated in the year 1992, is a Mid Cap company (having a market cap of Rs 25681.01 Crore) operating in IT Software sector.',\n",
       "  'Promoters held 31.14 per cent stake in the company as of 31-Mar-2023, while FIIs owned 16.48 per cent, DIIs 3.2 per cent.'],\n",
       " 'buy/sell': ['Buy',\n",
       "  'Buy',\n",
       "  'Sell',\n",
       "  'Buy',\n",
       "  'Buy',\n",
       "  'Buy',\n",
       "  'Buy',\n",
       "  'Buy',\n",
       "  'Buy',\n",
       "  'Buy',\n",
       "  'Hold'],\n",
       " 'fund': [' BNP Paribas Securities',\n",
       "  ' HDFC Securities',\n",
       "  ' HDFC Securities',\n",
       "  ' ICICI Direct',\n",
       "  ' ICICI Direct',\n",
       "  ' ICICI Direct',\n",
       "  ' ICICI Direct',\n",
       "  ' ICICI Direct',\n",
       "  ' ICICI Direct',\n",
       "  ' ICICI Direct',\n",
       "  ' ICICI Direct'],\n",
       " 'target_price': [nan, nan, nan, nan, nan, nan, nan, nan, nan, nan, nan],\n",
       " 'stock': ['Voltas',\n",
       "  'UTI Asset Management Company',\n",
       "  ' Shoppers Stop',\n",
       "  'Kotak Mahindra Bank',\n",
       "  'Mahindra & Mahindra',\n",
       "  'Infosys',\n",
       "  'Motilal Oswal Financial Services',\n",
       "  'Star Health and Allied Insurance Company',\n",
       "  'SBI Life Insurance Company',\n",
       "  'Coforge',\n",
       "  ' IIFL Securities'],\n",
       " 'date': ['2023-04-28',\n",
       "  '2023-04-28',\n",
       "  '2023-04-28',\n",
       "  '2023-04-28',\n",
       "  '2023-04-28',\n",
       "  '2023-04-28',\n",
       "  '2023-04-28',\n",
       "  '2023-04-28',\n",
       "  '2023-04-28',\n",
       "  '2023-04-28',\n",
       "  '2023-04-28']}"
      ]
     },
     "execution_count": 34,
     "metadata": {},
     "output_type": "execute_result"
    }
   ],
   "source": [
    "get_news(date)"
   ]
  },
  {
   "cell_type": "code",
   "execution_count": 43,
   "metadata": {},
   "outputs": [],
   "source": [
    "df = pd.read_csv(\"data/news_process.csv\")"
   ]
  },
  {
   "cell_type": "code",
   "execution_count": 44,
   "metadata": {},
   "outputs": [
    {
     "data": {
      "text/html": [
       "<div>\n",
       "<style scoped>\n",
       "    .dataframe tbody tr th:only-of-type {\n",
       "        vertical-align: middle;\n",
       "    }\n",
       "\n",
       "    .dataframe tbody tr th {\n",
       "        vertical-align: top;\n",
       "    }\n",
       "\n",
       "    .dataframe thead th {\n",
       "        text-align: right;\n",
       "    }\n",
       "</style>\n",
       "<table border=\"1\" class=\"dataframe\">\n",
       "  <thead>\n",
       "    <tr style=\"text-align: right;\">\n",
       "      <th></th>\n",
       "      <th>title</th>\n",
       "      <th>link</th>\n",
       "      <th>text</th>\n",
       "      <th>buy/sell</th>\n",
       "      <th>fund</th>\n",
       "      <th>target_price</th>\n",
       "      <th>stock</th>\n",
       "      <th>date</th>\n",
       "    </tr>\n",
       "  </thead>\n",
       "  <tbody>\n",
       "    <tr>\n",
       "      <th>0</th>\n",
       "      <td>Buy Voltas, target price Rs 1005: BNP Paribas ...</td>\n",
       "      <td>https://economictimes.indiatimes.com/markets/s...</td>\n",
       "      <td>Promoters held 30.3 per cent stake in the comp...</td>\n",
       "      <td>Buy</td>\n",
       "      <td>BNP Paribas Securities</td>\n",
       "      <td>1005</td>\n",
       "      <td>Voltas</td>\n",
       "      <td>2023-04-28</td>\n",
       "    </tr>\n",
       "    <tr>\n",
       "      <th>1</th>\n",
       "      <td>Buy UTI Asset Management Company, target price...</td>\n",
       "      <td>https://economictimes.indiatimes.com/markets/s...</td>\n",
       "      <td>The brokerage expects the company to deliver 6...</td>\n",
       "      <td>Buy</td>\n",
       "      <td>HDFC Securities</td>\n",
       "      <td>770</td>\n",
       "      <td>UTI Asset Management Company</td>\n",
       "      <td>2023-04-28</td>\n",
       "    </tr>\n",
       "    <tr>\n",
       "      <th>2</th>\n",
       "      <td>Sell Shoppers Stop, target price Rs 520: HDFC ...</td>\n",
       "      <td>https://economictimes.indiatimes.com/markets/s...</td>\n",
       "      <td>Promoters held 65.46 per cent stake in the com...</td>\n",
       "      <td>Sell</td>\n",
       "      <td>HDFC Securities</td>\n",
       "      <td>520</td>\n",
       "      <td>Shoppers Stop</td>\n",
       "      <td>2023-04-28</td>\n",
       "    </tr>\n",
       "    <tr>\n",
       "      <th>3</th>\n",
       "      <td>Buy Kotak Mahindra Bank, target price Rs 1936 ...</td>\n",
       "      <td>https://economictimes.indiatimes.com/markets/s...</td>\n",
       "      <td>Promoters held 25.95 per cent stake in the com...</td>\n",
       "      <td>Buy</td>\n",
       "      <td>ICICI Direct</td>\n",
       "      <td>1936</td>\n",
       "      <td>Kotak Mahindra Bank</td>\n",
       "      <td>2023-04-28</td>\n",
       "    </tr>\n",
       "    <tr>\n",
       "      <th>4</th>\n",
       "      <td>Buy Mahindra &amp; Mahindra, target price Rs 1243:...</td>\n",
       "      <td>https://economictimes.indiatimes.com/markets/s...</td>\n",
       "      <td>Price on verge of breakout after consolidating...</td>\n",
       "      <td>Buy</td>\n",
       "      <td>ICICI Direct</td>\n",
       "      <td>1243</td>\n",
       "      <td>Mahindra &amp; Mahindra</td>\n",
       "      <td>2023-04-28</td>\n",
       "    </tr>\n",
       "    <tr>\n",
       "      <th>5</th>\n",
       "      <td>Buy Infosys, target price Rs 1600: ICICI Direct</td>\n",
       "      <td>https://economictimes.indiatimes.com/markets/s...</td>\n",
       "      <td>Infosys key Products/Revenue Segments include ...</td>\n",
       "      <td>Buy</td>\n",
       "      <td>ICICI Direct</td>\n",
       "      <td>1600</td>\n",
       "      <td>Infosys</td>\n",
       "      <td>2023-04-28</td>\n",
       "    </tr>\n",
       "    <tr>\n",
       "      <th>6</th>\n",
       "      <td>Buy Motilal Oswal Financial Services, target p...</td>\n",
       "      <td>https://economictimes.indiatimes.com/markets/s...</td>\n",
       "      <td>Motilal Oswal Financial is a diversified finan...</td>\n",
       "      <td>Buy</td>\n",
       "      <td>ICICI Direct</td>\n",
       "      <td>790</td>\n",
       "      <td>Motilal Oswal Financial Services</td>\n",
       "      <td>2023-04-28</td>\n",
       "    </tr>\n",
       "    <tr>\n",
       "      <th>7</th>\n",
       "      <td>Buy Star Health and Allied Insurance Company, ...</td>\n",
       "      <td>https://economictimes.indiatimes.com/markets/s...</td>\n",
       "      <td>Promoters held 58.28 per cent stake in the com...</td>\n",
       "      <td>Buy</td>\n",
       "      <td>ICICI Direct</td>\n",
       "      <td>650</td>\n",
       "      <td>Star Health and Allied Insurance Company</td>\n",
       "      <td>2023-04-28</td>\n",
       "    </tr>\n",
       "    <tr>\n",
       "      <th>8</th>\n",
       "      <td>Buy SBI Life Insurance Company, target price R...</td>\n",
       "      <td>https://economictimes.indiatimes.com/markets/s...</td>\n",
       "      <td>SBI Life Insurance Company, incorporated in th...</td>\n",
       "      <td>Buy</td>\n",
       "      <td>ICICI Direct</td>\n",
       "      <td>1350</td>\n",
       "      <td>SBI Life Insurance Company</td>\n",
       "      <td>2023-04-28</td>\n",
       "    </tr>\n",
       "    <tr>\n",
       "      <th>9</th>\n",
       "      <td>Buy Coforge, target price Rs 4725: ICICI Direct</td>\n",
       "      <td>https://economictimes.indiatimes.com/markets/s...</td>\n",
       "      <td>Coforge, incorporated in the year 1992, is a M...</td>\n",
       "      <td>Buy</td>\n",
       "      <td>ICICI Direct</td>\n",
       "      <td>4725</td>\n",
       "      <td>Coforge</td>\n",
       "      <td>2023-04-28</td>\n",
       "    </tr>\n",
       "    <tr>\n",
       "      <th>10</th>\n",
       "      <td>Hold IIFL Securities, target price Rs 65: ICIC...</td>\n",
       "      <td>https://economictimes.indiatimes.com/markets/s...</td>\n",
       "      <td>Promoters held 31.14 per cent stake in the com...</td>\n",
       "      <td>Hold</td>\n",
       "      <td>ICICI Direct</td>\n",
       "      <td>65</td>\n",
       "      <td>IIFL Securities</td>\n",
       "      <td>2023-04-28</td>\n",
       "    </tr>\n",
       "  </tbody>\n",
       "</table>\n",
       "</div>"
      ],
      "text/plain": [
       "                                                title  \\\n",
       "0   Buy Voltas, target price Rs 1005: BNP Paribas ...   \n",
       "1   Buy UTI Asset Management Company, target price...   \n",
       "2   Sell Shoppers Stop, target price Rs 520: HDFC ...   \n",
       "3   Buy Kotak Mahindra Bank, target price Rs 1936 ...   \n",
       "4   Buy Mahindra & Mahindra, target price Rs 1243:...   \n",
       "5     Buy Infosys, target price Rs 1600: ICICI Direct   \n",
       "6   Buy Motilal Oswal Financial Services, target p...   \n",
       "7   Buy Star Health and Allied Insurance Company, ...   \n",
       "8   Buy SBI Life Insurance Company, target price R...   \n",
       "9     Buy Coforge, target price Rs 4725: ICICI Direct   \n",
       "10  Hold IIFL Securities, target price Rs 65: ICIC...   \n",
       "\n",
       "                                                 link  \\\n",
       "0   https://economictimes.indiatimes.com/markets/s...   \n",
       "1   https://economictimes.indiatimes.com/markets/s...   \n",
       "2   https://economictimes.indiatimes.com/markets/s...   \n",
       "3   https://economictimes.indiatimes.com/markets/s...   \n",
       "4   https://economictimes.indiatimes.com/markets/s...   \n",
       "5   https://economictimes.indiatimes.com/markets/s...   \n",
       "6   https://economictimes.indiatimes.com/markets/s...   \n",
       "7   https://economictimes.indiatimes.com/markets/s...   \n",
       "8   https://economictimes.indiatimes.com/markets/s...   \n",
       "9   https://economictimes.indiatimes.com/markets/s...   \n",
       "10  https://economictimes.indiatimes.com/markets/s...   \n",
       "\n",
       "                                                 text buy/sell  \\\n",
       "0   Promoters held 30.3 per cent stake in the comp...      Buy   \n",
       "1   The brokerage expects the company to deliver 6...      Buy   \n",
       "2   Promoters held 65.46 per cent stake in the com...     Sell   \n",
       "3   Promoters held 25.95 per cent stake in the com...      Buy   \n",
       "4   Price on verge of breakout after consolidating...      Buy   \n",
       "5   Infosys key Products/Revenue Segments include ...      Buy   \n",
       "6   Motilal Oswal Financial is a diversified finan...      Buy   \n",
       "7   Promoters held 58.28 per cent stake in the com...      Buy   \n",
       "8   SBI Life Insurance Company, incorporated in th...      Buy   \n",
       "9   Coforge, incorporated in the year 1992, is a M...      Buy   \n",
       "10  Promoters held 31.14 per cent stake in the com...     Hold   \n",
       "\n",
       "                       fund  target_price  \\\n",
       "0    BNP Paribas Securities          1005   \n",
       "1           HDFC Securities           770   \n",
       "2           HDFC Securities           520   \n",
       "3              ICICI Direct          1936   \n",
       "4              ICICI Direct          1243   \n",
       "5              ICICI Direct          1600   \n",
       "6              ICICI Direct           790   \n",
       "7              ICICI Direct           650   \n",
       "8              ICICI Direct          1350   \n",
       "9              ICICI Direct          4725   \n",
       "10             ICICI Direct            65   \n",
       "\n",
       "                                       stock        date  \n",
       "0                                     Voltas  2023-04-28  \n",
       "1               UTI Asset Management Company  2023-04-28  \n",
       "2                              Shoppers Stop  2023-04-28  \n",
       "3                        Kotak Mahindra Bank  2023-04-28  \n",
       "4                        Mahindra & Mahindra  2023-04-28  \n",
       "5                                    Infosys  2023-04-28  \n",
       "6           Motilal Oswal Financial Services  2023-04-28  \n",
       "7   Star Health and Allied Insurance Company  2023-04-28  \n",
       "8                 SBI Life Insurance Company  2023-04-28  \n",
       "9                                    Coforge  2023-04-28  \n",
       "10                           IIFL Securities  2023-04-28  "
      ]
     },
     "execution_count": 44,
     "metadata": {},
     "output_type": "execute_result"
    }
   ],
   "source": [
    "df[df[\"date\"] == date]"
   ]
  },
  {
   "cell_type": "code",
   "execution_count": 42,
   "metadata": {},
   "outputs": [
    {
     "data": {
      "text/plain": [
       "['1005']"
      ]
     },
     "execution_count": 42,
     "metadata": {},
     "output_type": "execute_result"
    }
   ],
   "source": [
    "re.findall(\"\\d+\", df[\"title\"].iloc[0])"
   ]
  },
  {
   "cell_type": "code",
   "execution_count": null,
   "metadata": {},
   "outputs": [],
   "source": []
  }
 ],
 "metadata": {
  "kernelspec": {
   "display_name": "mutual-fund",
   "language": "python",
   "name": "python3"
  },
  "language_info": {
   "codemirror_mode": {
    "name": "ipython",
    "version": 3
   },
   "file_extension": ".py",
   "mimetype": "text/x-python",
   "name": "python",
   "nbconvert_exporter": "python",
   "pygments_lexer": "ipython3",
   "version": "3.9.16"
  },
  "orig_nbformat": 4
 },
 "nbformat": 4,
 "nbformat_minor": 2
}
