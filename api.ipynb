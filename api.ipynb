{
 "cells": [
  {
   "cell_type": "code",
   "execution_count": 3,
   "metadata": {},
   "outputs": [],
   "source": [
    "import datetime\n",
    "import pandas as pd"
   ]
  },
  {
   "cell_type": "code",
   "execution_count": 2,
   "metadata": {},
   "outputs": [],
   "source": [
    "df = pd.read_csv(\"data/stock_info.csv\")"
   ]
  },
  {
   "cell_type": "code",
   "execution_count": 3,
   "metadata": {},
   "outputs": [
    {
     "data": {
      "text/plain": [
       "0      True\n",
       "1     False\n",
       "2     False\n",
       "3     False\n",
       "4     False\n",
       "      ...  \n",
       "56    False\n",
       "57    False\n",
       "58    False\n",
       "59    False\n",
       "60    False\n",
       "Name: name, Length: 61, dtype: bool"
      ]
     },
     "execution_count": 3,
     "metadata": {},
     "output_type": "execute_result"
    }
   ],
   "source": [
    "df[\"name\"] == \"Axis Bank Ltd.\""
   ]
  },
  {
   "cell_type": "code",
   "execution_count": 2,
   "metadata": {},
   "outputs": [],
   "source": [
    "def get_news(date):\n",
    "    df = pd.read_csv(\"data/news.csv\")\n",
    "    df = df[df[\"time\"] == date]\n",
    "    return df.to_dict(\"list\")     "
   ]
  },
  {
   "cell_type": "code",
   "execution_count": 4,
   "metadata": {},
   "outputs": [],
   "source": [
    "date = str(datetime.date.today())"
   ]
  },
  {
   "cell_type": "code",
   "execution_count": 6,
   "metadata": {},
   "outputs": [
    {
     "data": {
      "text/plain": [
       "'2023-04-28'"
      ]
     },
     "execution_count": 6,
     "metadata": {},
     "output_type": "execute_result"
    }
   ],
   "source": [
    "date"
   ]
  },
  {
   "cell_type": "code",
   "execution_count": 5,
   "metadata": {},
   "outputs": [
    {
     "data": {
      "text/plain": [
       "{'title': ['Buy Voltas, target price Rs 1005: BNP Paribas Securities',\n",
       "  'Buy UTI Asset Management Company, target price Rs 770: HDFC Securities',\n",
       "  'Sell Shoppers Stop, target price Rs 520: HDFC Securities',\n",
       "  'Buy Kotak Mahindra Bank, target price Rs 1936 : ICICI Direct',\n",
       "  'Buy Mahindra & Mahindra, target price Rs 1243: ICICI Direct',\n",
       "  'Buy Infosys, target price Rs 1600: ICICI Direct',\n",
       "  'Buy Motilal Oswal Financial Services, target price Rs 790: ICICI Direct',\n",
       "  'Buy Star Health and Allied Insurance Company, target price Rs 650: ICICI Direct',\n",
       "  'Buy SBI Life Insurance Company, target price Rs 1350: ICICI Direct',\n",
       "  'Buy Coforge, target price Rs 4725: ICICI Direct',\n",
       "  'Hold IIFL Securities, target price Rs 65: ICICI Direct'],\n",
       " 'link': ['https://economictimes.indiatimes.com/markets/stocks/recos/buy-voltas-target-price-rs-1005-bnp-paribas-securities/articleshow/99839533.cms',\n",
       "  'https://economictimes.indiatimes.com/markets/stocks/recos/buy-uti-asset-management-company-target-price-rs-770-hdfc-securities/articleshow/99839198.cms',\n",
       "  'https://economictimes.indiatimes.com/markets/stocks/recos/sell-shoppers-stop-target-price-rs-520-hdfc-securities/articleshow/99838855.cms',\n",
       "  'https://economictimes.indiatimes.com/markets/stocks/recos/buy-kotak-mahindra-bank-target-price-rs-1936-icici-direct/articleshow/99836176.cms',\n",
       "  'https://economictimes.indiatimes.com/markets/stocks/recos/buy-mahindra-amp-mahindra-target-price-rs-1243-icici-direct/articleshow/99835202.cms',\n",
       "  'https://economictimes.indiatimes.com/markets/stocks/recos/buy-infosys-target-price-rs-1600-icici-direct/articleshow/99835066.cms',\n",
       "  'https://economictimes.indiatimes.com/markets/stocks/recos/buy-motilal-oswal-financial-services-target-price-rs-790-icici-direct/articleshow/99834105.cms',\n",
       "  'https://economictimes.indiatimes.com/markets/stocks/recos/buy-star-health-and-allied-insurance-company-target-price-rs-650-icici-direct/articleshow/99833563.cms',\n",
       "  'https://economictimes.indiatimes.com/markets/stocks/recos/buy-sbi-life-insurance-company-target-price-rs-1350-icici-direct/articleshow/99833473.cms',\n",
       "  'https://economictimes.indiatimes.com/markets/stocks/recos/buy-coforge-target-price-rs-4725-icici-direct/articleshow/99833103.cms',\n",
       "  'https://economictimes.indiatimes.com/markets/stocks/recos/hold-iifl-securities-target-price-rs-65-icici-direct/articleshow/99832756.cms'],\n",
       " 'time': ['2023-04-28',\n",
       "  '2023-04-28',\n",
       "  '2023-04-28',\n",
       "  '2023-04-28',\n",
       "  '2023-04-28',\n",
       "  '2023-04-28',\n",
       "  '2023-04-28',\n",
       "  '2023-04-28',\n",
       "  '2023-04-28',\n",
       "  '2023-04-28',\n",
       "  '2023-04-28'],\n",
       " 'text': ['Promoters held 30.3 per cent stake in the company as of 31-Mar-2023, while FIIs owned 20.58 per cent, DIIs 32.69 per cent.',\n",
       "  'The brokerage expects the company to deliver 6%/12% revenue/operating profit CAGR over FY23- 25E on the back of healthy AUM growth and marginal cost rationalisation.',\n",
       "  'Promoters held 65.46 per cent stake in the company as of 31-Mar-2023, while FIIs owned 6.82 per cent, DIIs 20.81 per cent.',\n",
       "  'Promoters held 25.95 per cent stake in the company as of 31-Mar-2023, while FIIs owned 39.42 per cent, DIIs 21.08 per cent.',\n",
       "  'Price on verge of breakout after consolidating above 20 day EMA, signalingfurther upsides in coming sessions',\n",
       "  'Infosys key Products/Revenue Segments include Software Development Charges and Software Products for the year ending 31-Mar-2022.',\n",
       "  'Motilal Oswal Financial is a diversified financial services company, whichincludes broking, wealth/asset management, housing and PE',\n",
       "  'Promoters held 58.28 per cent stake in the company as of 31-Mar-2023, while FIIs owned 35.24 per cent, DIIs 1.44 per cent.',\n",
       "  'SBI Life Insurance Company, incorporated in the year 2000, is a Large Cap company (having a market cap of Rs 113806.74 Crore) operating in Financial Services sector.',\n",
       "  'Coforge, incorporated in the year 1992, is a Mid Cap company (having a market cap of Rs 25681.01 Crore) operating in IT Software sector.',\n",
       "  'Promoters held 31.14 per cent stake in the company as of 31-Mar-2023, while FIIs owned 16.48 per cent, DIIs 3.2 per cent.'],\n",
       " 'buy/sell': ['Buy',\n",
       "  'Buy',\n",
       "  'Sell',\n",
       "  'Buy',\n",
       "  'Buy',\n",
       "  'Buy',\n",
       "  'Buy',\n",
       "  'Buy',\n",
       "  'Buy',\n",
       "  'Buy',\n",
       "  'Hold'],\n",
       " 'fund': [' BNP Paribas Securities',\n",
       "  ' HDFC Securities',\n",
       "  ' HDFC Securities',\n",
       "  ' ICICI Direct',\n",
       "  ' ICICI Direct',\n",
       "  ' ICICI Direct',\n",
       "  ' ICICI Direct',\n",
       "  ' ICICI Direct',\n",
       "  ' ICICI Direct',\n",
       "  ' ICICI Direct',\n",
       "  ' ICICI Direct'],\n",
       " 'target_price': [1005.0,\n",
       "  770.0,\n",
       "  520.0,\n",
       "  1936.0,\n",
       "  1243.0,\n",
       "  1600.0,\n",
       "  790.0,\n",
       "  650.0,\n",
       "  1350.0,\n",
       "  4725.0,\n",
       "  65.0],\n",
       " 'stock': ['Voltas',\n",
       "  'UTI Asset Management Company',\n",
       "  ' Shoppers Stop',\n",
       "  'Kotak Mahindra Bank',\n",
       "  'Mahindra & Mahindra',\n",
       "  'Infosys',\n",
       "  'Motilal Oswal Financial Services',\n",
       "  'Star Health and Allied Insurance Company',\n",
       "  'SBI Life Insurance Company',\n",
       "  'Coforge',\n",
       "  ' IIFL Securities']}"
      ]
     },
     "execution_count": 5,
     "metadata": {},
     "output_type": "execute_result"
    }
   ],
   "source": [
    "get_news(date)"
   ]
  },
  {
   "cell_type": "code",
   "execution_count": null,
   "metadata": {},
   "outputs": [],
   "source": []
  }
 ],
 "metadata": {
  "kernelspec": {
   "display_name": "mutual-fund",
   "language": "python",
   "name": "python3"
  },
  "language_info": {
   "codemirror_mode": {
    "name": "ipython",
    "version": 3
   },
   "file_extension": ".py",
   "mimetype": "text/x-python",
   "name": "python",
   "nbconvert_exporter": "python",
   "pygments_lexer": "ipython3",
   "version": "3.9.16"
  },
  "orig_nbformat": 4
 },
 "nbformat": 4,
 "nbformat_minor": 2
}
