{
 "cells": [
  {
   "cell_type": "code",
   "execution_count": 4,
   "metadata": {},
   "outputs": [],
   "source": [
    "from datetime import date\n",
    "import os\n",
    "import pandas as pd\n",
    "import glob\n",
    "import numpy as np"
   ]
  },
  {
   "cell_type": "code",
   "execution_count": 21,
   "metadata": {},
   "outputs": [
    {
     "data": {
      "text/plain": [
       "'2023-04-23'"
      ]
     },
     "execution_count": 21,
     "metadata": {},
     "output_type": "execute_result"
    }
   ],
   "source": [
    "today = str(date.today())\n",
    "today"
   ]
  },
  {
   "cell_type": "code",
   "execution_count": 25,
   "metadata": {},
   "outputs": [],
   "source": [
    "today_dir = os.path.join(\"data\",\"grow\" ,today)\n",
    "funds_dir = os.path.join(today_dir, \"funds\")"
   ]
  },
  {
   "cell_type": "code",
   "execution_count": 27,
   "metadata": {},
   "outputs": [],
   "source": [
    "files = glob.glob(os.path.join(funds_dir, \"*.csv\"))"
   ]
  },
  {
   "cell_type": "code",
   "execution_count": 40,
   "metadata": {},
   "outputs": [],
   "source": [
    "dfs = []\n",
    "for file in files:\n",
    "    dfs.append(pd.read_csv(file, index_col=None))"
   ]
  },
  {
   "cell_type": "code",
   "execution_count": 41,
   "metadata": {},
   "outputs": [],
   "source": [
    "funds = pd.concat(dfs, ignore_index=True)"
   ]
  },
  {
   "cell_type": "code",
   "execution_count": 42,
   "metadata": {},
   "outputs": [],
   "source": [
    "funds.to_csv(os.path.join(today_dir, \"funds.csv\"), index = None)"
   ]
  },
  {
   "cell_type": "code",
   "execution_count": 2,
   "metadata": {},
   "outputs": [],
   "source": [
    "path = \"data/tick/2023-04-25/indext/indext.csv\""
   ]
  },
  {
   "cell_type": "code",
   "execution_count": 3,
   "metadata": {},
   "outputs": [],
   "source": [
    "df = pd.read_csv(path)"
   ]
  },
  {
   "cell_type": "code",
   "execution_count": 7,
   "metadata": {},
   "outputs": [],
   "source": [
    "df = np.unique(df.values)"
   ]
  },
  {
   "cell_type": "code",
   "execution_count": 8,
   "metadata": {},
   "outputs": [
    {
     "data": {
      "text/plain": [
       "array(['https://ticker.finology.in/investor/aarti-singal',\n",
       "       'https://ticker.finology.in/investor/abakkus-fund-sunil-singhania',\n",
       "       'https://ticker.finology.in/investor/ajay-upadhyaya',\n",
       "       'https://ticker.finology.in/investor/amit-gupta',\n",
       "       'https://ticker.finology.in/investor/aniket-singal',\n",
       "       'https://ticker.finology.in/investor/anil-kumar-goel',\n",
       "       'https://ticker.finology.in/investor/anuj-a-sheth',\n",
       "       'https://ticker.finology.in/investor/aquamarine-master-and-trading',\n",
       "       'https://ticker.finology.in/investor/ashish-dhawan',\n",
       "       'https://ticker.finology.in/investor/ashish-kacholia',\n",
       "       'https://ticker.finology.in/investor/ashok-hiralal-shah',\n",
       "       'https://ticker.finology.in/investor/ashok-kumar-jain',\n",
       "       'https://ticker.finology.in/investor/atim-kabra',\n",
       "       'https://ticker.finology.in/investor/balram-bharwani',\n",
       "       'https://ticker.finology.in/investor/bharat-jayantilal-patel',\n",
       "       'https://ticker.finology.in/investor/bhavook-tripathi',\n",
       "       'https://ticker.finology.in/investor/deepinder-singh-poonian',\n",
       "       'https://ticker.finology.in/investor/dheeraj-kumar-lohia',\n",
       "       'https://ticker.finology.in/investor/dilipkumar-lakhi',\n",
       "       'https://ticker.finology.in/investor/dipak-kanayalal-shah',\n",
       "       'https://ticker.finology.in/investor/dolly-khanna',\n",
       "       'https://ticker.finology.in/investor/gagandeep-credit-capital-pvt-ltd',\n",
       "       'https://ticker.finology.in/investor/globe-capital-market-ltd',\n",
       "       'https://ticker.finology.in/investor/harsha-hitesh-javeri',\n",
       "       'https://ticker.finology.in/investor/hemangini-vinitkumar-parikh',\n",
       "       'https://ticker.finology.in/investor/hiten-anantrai-sheth',\n",
       "       'https://ticker.finology.in/investor/hitesh-ramji-javeri',\n",
       "       'https://ticker.finology.in/investor/hitesh-satishchandra-doshi',\n",
       "       'https://ticker.finology.in/investor/keswani-haresh',\n",
       "       'https://ticker.finology.in/investor/kirti-kantilal-mehta',\n",
       "       'https://ticker.finology.in/investor/lincoln-p-coelho',\n",
       "       'https://ticker.finology.in/investor/madan-bhagchand-melwani',\n",
       "       'https://ticker.finology.in/investor/madhukar-sheth',\n",
       "       'https://ticker.finology.in/investor/mahendra-girdharilal',\n",
       "       'https://ticker.finology.in/investor/minal-bharat-patel',\n",
       "       'https://ticker.finology.in/investor/mita-dipak-shah',\n",
       "       'https://ticker.finology.in/investor/mohnish-pabrai',\n",
       "       'https://ticker.finology.in/investor/mukul-agrawal',\n",
       "       'https://ticker.finology.in/investor/nemish-s-shah',\n",
       "       'https://ticker.finology.in/investor/porinju-v-veliyath',\n",
       "       'https://ticker.finology.in/investor/president-of-india',\n",
       "       'https://ticker.finology.in/investor/radhakishan-damani',\n",
       "       'https://ticker.finology.in/investor/rafiyudeen-narudeen-saeyd',\n",
       "       'https://ticker.finology.in/investor/raj-kumar-lohia',\n",
       "       'https://ticker.finology.in/investor/raju-bhandari',\n",
       "       'https://ticker.finology.in/investor/rakesh-jhunjhunwala',\n",
       "       'https://ticker.finology.in/investor/religare-finvest-limited',\n",
       "       'https://ticker.finology.in/investor/ricky-ishwardas-kirpalani',\n",
       "       'https://ticker.finology.in/investor/rupesh-jha',\n",
       "       'https://ticker.finology.in/investor/sangeetha-s',\n",
       "       'https://ticker.finology.in/investor/sanjay-gupta',\n",
       "       'https://ticker.finology.in/investor/sanjay-kumar-agarwal',\n",
       "       'https://ticker.finology.in/investor/sanjay-singal',\n",
       "       'https://ticker.finology.in/investor/sanjeev-vinodchandra-parekh',\n",
       "       'https://ticker.finology.in/investor/sanjiv-dhireshbhai-shah',\n",
       "       'https://ticker.finology.in/investor/santosh-sitaram-goenka',\n",
       "       'https://ticker.finology.in/investor/satpal-khattar',\n",
       "       'https://ticker.finology.in/investor/seetha-kumari',\n",
       "       'https://ticker.finology.in/investor/sharad-kanayalal-shah',\n",
       "       'https://ticker.finology.in/investor/shaunak-jagdish-shah',\n",
       "       'https://ticker.finology.in/investor/shivani-tejas-trivedi',\n",
       "       'https://ticker.finology.in/investor/subramanian-p',\n",
       "       'https://ticker.finology.in/investor/sumpoorna-portfolio-limited',\n",
       "       'https://ticker.finology.in/investor/sunil-kumar',\n",
       "       'https://ticker.finology.in/investor/sunil-talwar',\n",
       "       'https://ticker.finology.in/investor/suresh-kumar-agarwal',\n",
       "       'https://ticker.finology.in/investor/vallabh-roopchand-bhanshali',\n",
       "       'https://ticker.finology.in/investor/vanaja-sundar-iyer',\n",
       "       'https://ticker.finology.in/investor/vijay-kedia',\n",
       "       'https://ticker.finology.in/investor/vinodchandra-mansukhlal-parekh'],\n",
       "      dtype=object)"
      ]
     },
     "execution_count": 8,
     "metadata": {},
     "output_type": "execute_result"
    }
   ],
   "source": [
    "df"
   ]
  },
  {
   "cell_type": "code",
   "execution_count": null,
   "metadata": {},
   "outputs": [],
   "source": []
  }
 ],
 "metadata": {
  "kernelspec": {
   "display_name": "gnn",
   "language": "python",
   "name": "python3"
  },
  "language_info": {
   "codemirror_mode": {
    "name": "ipython",
    "version": 3
   },
   "file_extension": ".py",
   "mimetype": "text/x-python",
   "name": "python",
   "nbconvert_exporter": "python",
   "pygments_lexer": "ipython3",
   "version": "3.9.16"
  },
  "orig_nbformat": 4
 },
 "nbformat": 4,
 "nbformat_minor": 2
}
