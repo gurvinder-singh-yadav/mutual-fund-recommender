{
 "cells": [
  {
   "cell_type": "code",
   "execution_count": 3,
   "metadata": {},
   "outputs": [],
   "source": [
    "from selenium import webdriver\n",
    "import pandas as pd\n",
    "import os\n",
    "import datetime\n",
    "from multiprocessing.pool import ThreadPool\n",
    "from webdriver_manager.chrome import ChromeDriverManager\n",
    "from selenium.webdriver.chrome.service import Service\n",
    "from selenium.webdriver.common.by import By\n",
    "from selenium.webdriver.chrome.options import Options\n",
    "import glob\n",
    "from bs4 import BeautifulSoup\n",
    "import shutil\n",
    "chromeOptions = Options()\n",
    "from time import sleep\n",
    "import datetime\n",
    "import json\n",
    "import re\n",
    "import numpy as np"
   ]
  },
  {
   "cell_type": "code",
   "execution_count": 32,
   "metadata": {},
   "outputs": [],
   "source": [
    "def get_stock_info(start, stop):\n",
    "        \n",
    "        driver = webdriver.Chrome(\n",
    "        ChromeDriverManager().install(),\n",
    "                )\n",
    "        today = str(datetime.date.today())\n",
    "\n",
    "        df = pd.read_csv(\"data/grow/{}/stocks.csv\".format(today))\n",
    "        urls = df[\"href\"].iloc[start:stop].tolist()\n",
    "        names = df[\"name\"].iloc[start:stop].tolist()\n",
    "        stock = {}\n",
    "        for idx, (name, url) in enumerate(zip(names, urls)):\n",
    "                root_dir = \"data/stock\"\n",
    "                path = os.path.join(root_dir, \"{}.json\".format(idx + start))\n",
    "                driver.get(url)\n",
    "                try:\n",
    "                        element = driver.find_element(By.XPATH, \"//body[1]/div[1]/div[2]/div[2]/div[1]/div[1]/div[1]/div[1]/div[1]/div[1]/div[2]/div[1]/div[1]/div[4]/div[1]/section[1]/section[1]/div[1]/div[1]/div[2]/div[1]/div[2]/div[1]\")\n",
    "                        stock[\"todaymin\"] = element.get_attribute(\"aria-valuemin\")\n",
    "                        stock[\"todaymax\"] =  element.get_attribute(\"aria-valuemax\")\n",
    "                        stock[\"todaynow\"] = element.get_attribute(\"aria-valuenow\")\n",
    "                        element = driver.find_element(By.XPATH, \"//body[1]/div[1]/div[2]/div[2]/div[1]/div[1]/div[1]/div[1]/div[1]/div[1]/div[2]/div[1]/div[1]/div[4]/div[1]/section[1]/section[1]/div[1]/div[1]/div[2]/div[2]/div[2]/div[1]\")\n",
    "                        stock[\"52min\"] = element.get_attribute(\"aria-valuemin\")\n",
    "                        stock[\"52max\"] =  element.get_attribute(\"aria-valuemax\")\n",
    "                        stock[\"52now\"] = element.get_attribute(\"aria-valuenow\")\n",
    "                        xpath = \"//body/div[@id='__next']/div[@id='root']/div/div[contains(@class,'container web-align')]/div[@class='row pw14Container']/div[@class='pw14MainWrapper']/div[@class='pw14ContentWrapper']/div[@class='col l12']/div[@class='container web-align']/div[@class='col l12 stkP12BelowFoldDiv']/div[@class='col l12 stkP12BelowFoldInnerCont']/div[@class='col l12']/div[@class='col l12']/div[@class='col l12']/section/section/div[@class='onMount-appear-done onMount-enter-done']/div[1]\"\n",
    "                        change_price = driver.find_element(By.XPATH, \"//div[@class='lpu38Day fs14 primaryClr']\")\n",
    "                        stock[\"price_change\"] = change_price.text\n",
    "                        div = driver.find_element(By.XPATH, xpath)\n",
    "                        innerhtml = div.get_attribute(\"innerHTML\")\n",
    "                        soup = BeautifulSoup(innerhtml, \"html.parser\")\n",
    "                        names = [i.text for i in soup.find_all(\"div\", {\"class\" : \"stpp34KeyText stpp34KeyTextStk fs14\"})]\n",
    "                        values = [i.text for i in soup.find_all(\"span\", {\"class\": \"stpp34Value fs16\"})]\n",
    "                        element = driver.find_element(By.XPATH, \"//table[@class='tb10Table col l12 ft785Table']\")\n",
    "                        trs = element.find_elements(By.TAG_NAME, \"tr\")\n",
    "                        for i in range(len(trs)):\n",
    "                                tds = trs[i].find_elements(By.TAG_NAME, \"td\")\n",
    "                                names.append(tds[0].text)\n",
    "                                values.append(tds[1].text)\n",
    "                        xpath =  \"//div[@class='col l12 stkP12Section onMount-appear-done onMount-enter-done']//table[1]\"\n",
    "                        element = driver.find_element(By.XPATH, xpath)\n",
    "                        trs = element.find_elements(By.TAG_NAME, \"tr\")\n",
    "                        for i in range(len(trs)):\n",
    "                                tds = trs[i].find_elements(By.TAG_NAME, \"td\")\n",
    "                                names.append(tds[0].text)\n",
    "                                values.append(tds[1].text)\n",
    "                        xpath = \"//div[@class='col l12 stkP12Section onMount-appear-done onMount-enter-done']//table[2]\"\n",
    "                        element = driver.find_element(By.XPATH, xpath)\n",
    "                        trs = element.find_elements(By.TAG_NAME, \"tr\")\n",
    "                        for i in range(len(trs)):\n",
    "                                tds = trs[i].find_elements(By.TAG_NAME, \"td\")\n",
    "                                if \"Symbol\" in tds[0].text:\n",
    "                                        names.append(\"Symbol\")\n",
    "                                else:\n",
    "                                        names.append(tds[0].text)\n",
    "                                values.append(tds[1].text)\n",
    "                        stock.update(dict(zip(names, values)))\n",
    "                        \n",
    "                        \n",
    "                        stock[\"name\"] = name\n",
    "                except:\n",
    "                        continue\n",
    "                # print(path)\n",
    "                print(path)\n",
    "                with open(path, 'w') as f:\n",
    "                        json.dump(stock, f, indent=4)\n",
    "        driver.close()"
   ]
  },
  {
   "cell_type": "code",
   "execution_count": 33,
   "metadata": {},
   "outputs": [
    {
     "name": "stdout",
     "output_type": "stream",
     "text": [
      "data/stock/0.json\n",
      "data/stock/2.json\n",
      "data/stock/3.json\n",
      "data/stock/4.json\n",
      "data/stock/5.json\n",
      "data/stock/6.json\n",
      "data/stock/8.json\n",
      "data/stock/9.json\n"
     ]
    }
   ],
   "source": [
    "get_stock_info(0, 10)"
   ]
  },
  {
   "cell_type": "code",
   "execution_count": 14,
   "metadata": {},
   "outputs": [],
   "source": [
    "url = \"https://groww.in/stocks/reliance-industries-ltd\"\n",
    "driver = webdriver.Chrome(\n",
    "        ChromeDriverManager().install(),\n",
    "                )\n",
    "driver.get(url)"
   ]
  },
  {
   "cell_type": "code",
   "execution_count": 5,
   "metadata": {},
   "outputs": [],
   "source": [
    "curr_price = driver.find_element(By.XPATH, \"//div[@class='lpu38Pri valign-wrapper false fs28']\")"
   ]
  },
  {
   "cell_type": "code",
   "execution_count": 7,
   "metadata": {},
   "outputs": [],
   "source": [
    "change_price = driver.find_element(By.XPATH, \"//div[@class='lpu38Day fs14 primaryClr']\")"
   ]
  },
  {
   "cell_type": "code",
   "execution_count": 8,
   "metadata": {},
   "outputs": [
    {
     "data": {
      "text/plain": [
       "'+43.45 (1.83%) 1D'"
      ]
     },
     "execution_count": 8,
     "metadata": {},
     "output_type": "execute_result"
    }
   ],
   "source": [
    "change_price.text"
   ]
  },
  {
   "cell_type": "code",
   "execution_count": 18,
   "metadata": {},
   "outputs": [],
   "source": [
    "todays_low = driver.find_element(By.XPATH, \"//body[1]/div[1]/div[2]/div[2]/div[1]/div[1]/div[1]/div[1]/div[1]/div[1]/div[2]/div[1]/div[1]/div[4]/div[1]/section[1]/section[1]/div[1]/div[1]/div[2]/div[1]/div[2]/div[1]\")"
   ]
  },
  {
   "cell_type": "code",
   "execution_count": null,
   "metadata": {},
   "outputs": [],
   "source": []
  }
 ],
 "metadata": {
  "kernelspec": {
   "display_name": "gnn",
   "language": "python",
   "name": "python3"
  },
  "language_info": {
   "codemirror_mode": {
    "name": "ipython",
    "version": 3
   },
   "file_extension": ".py",
   "mimetype": "text/x-python",
   "name": "python",
   "nbconvert_exporter": "python",
   "pygments_lexer": "ipython3",
   "version": "3.9.16"
  },
  "orig_nbformat": 4
 },
 "nbformat": 4,
 "nbformat_minor": 2
}
