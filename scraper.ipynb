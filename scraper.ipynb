{
 "cells": [
  {
   "cell_type": "code",
   "execution_count": 1,
   "metadata": {},
   "outputs": [],
   "source": [
    "from selenium import webdriver\n",
    "import pandas as pd\n",
    "import os\n",
    "import datetime\n",
    "from multiprocessing.pool import ThreadPool\n",
    "from webdriver_manager.chrome import ChromeDriverManager\n",
    "from selenium.webdriver.chrome.service import Service\n",
    "from selenium.webdriver.common.by import By\n",
    "from selenium.webdriver.chrome.options import Options\n",
    "chromeOptions = Options()"
   ]
  },
  {
   "cell_type": "code",
   "execution_count": 3,
   "metadata": {},
   "outputs": [],
   "source": [
    "n_pcu = 1\n",
    "pool = ThreadPool(n_pcu)\n",
    "drivers = [webdriver.Chrome(\n",
    "    service=Service(ChromeDriverManager().install())\n",
    ") for i in range(n_pcu)]"
   ]
  },
  {
   "cell_type": "code",
   "execution_count": 5,
   "metadata": {},
   "outputs": [
    {
     "data": {
      "text/plain": [
       "<selenium.webdriver.chrome.webdriver.WebDriver (session=\"61d72e18174bf0442fe876c3b1de3960\")>"
      ]
     },
     "execution_count": 5,
     "metadata": {},
     "output_type": "execute_result"
    }
   ],
   "source": [
    "drivers[0]"
   ]
  },
  {
   "cell_type": "code",
   "execution_count": 6,
   "metadata": {},
   "outputs": [],
   "source": [
    "page = 0\n",
    "base_url = \"https://groww.in/mutual-funds/filter?q=&fundSize=&category=%5B%22Equity%22%5D&pageNo={}&sortBy=3\".format(page)"
   ]
  },
  {
   "cell_type": "code",
   "execution_count": 7,
   "metadata": {},
   "outputs": [],
   "source": [
    "drivers[0].get(base_url)"
   ]
  },
  {
   "cell_type": "code",
   "execution_count": 9,
   "metadata": {},
   "outputs": [],
   "source": [
    "table = drivers[0].find_element(By.CLASS_NAME, \"tb10Table\")"
   ]
  },
  {
   "cell_type": "code",
   "execution_count": 10,
   "metadata": {},
   "outputs": [
    {
     "data": {
      "text/plain": [
       "<selenium.webdriver.remote.webelement.WebElement (session=\"61d72e18174bf0442fe876c3b1de3960\", element=\"d8ac3ea9-aba0-4b26-99e0-04f70bd88413\")>"
      ]
     },
     "execution_count": 10,
     "metadata": {},
     "output_type": "execute_result"
    }
   ],
   "source": [
    "table"
   ]
  },
  {
   "cell_type": "code",
   "execution_count": 12,
   "metadata": {},
   "outputs": [],
   "source": [
    "elements = table.find_elements(By.TAG_NAME, \"tr\")"
   ]
  },
  {
   "cell_type": "code",
   "execution_count": 16,
   "metadata": {},
   "outputs": [
    {
     "data": {
      "text/plain": [
       "'https://groww.in/mutual-funds/quant-small-cap-fund-direct-plan-growth'"
      ]
     },
     "execution_count": 16,
     "metadata": {},
     "output_type": "execute_result"
    }
   ],
   "source": [
    "elements[0].find_element(By.TAG_NAME, \"a\").get_attribute(\"href\")"
   ]
  },
  {
   "cell_type": "code",
   "execution_count": 22,
   "metadata": {},
   "outputs": [],
   "source": [
    "td = elements[0].find_elements(By.TAG_NAME, \"td\")"
   ]
  },
  {
   "cell_type": "code",
   "execution_count": 30,
   "metadata": {},
   "outputs": [
    {
     "data": {
      "text/plain": [
       "'Quant Small Cap Fund Direct Plan Growth\\nVery High Risk\\nEquity\\n5'"
      ]
     },
     "execution_count": 30,
     "metadata": {},
     "output_type": "execute_result"
    }
   ],
   "source": [
    "td[1].text"
   ]
  },
  {
   "cell_type": "code",
   "execution_count": 59,
   "metadata": {},
   "outputs": [],
   "source": [
    "def get_page_summary(page):\n",
    "    driver = webdriver.Chrome(\n",
    "    service=Service(ChromeDriverManager().install())\n",
    "    )\n",
    "    base_url = \"https://groww.in/mutual-funds/filter?q=&fundSize=&category=%5B%22Equity%22%5D&pageNo={}&sortBy=3\".format(page)\n",
    "    driver.get(base_url)\n",
    "    table = driver.find_element(By.CLASS_NAME, \"tb10Table\")\n",
    "    elements = table.find_elements(By.TAG_NAME, \"tr\")\n",
    "    data = {\n",
    "        \"name\":[],\n",
    "        \"link\":[],\n",
    "        \"risk\":[]\n",
    "    }\n",
    "    for element in elements:\n",
    "        link = element.find_element(By.TAG_NAME, \"a\").get_attribute(\"href\")\n",
    "        td = element.find_elements(By.TAG_NAME, \"td\")\n",
    "        fund = td[1].text.split(\"\\n\")\n",
    "        data['link'].append(link)\n",
    "        data[\"name\"].append(fund[0])\n",
    "        data[\"risk\"].append(fund[1])\n",
    "    driver.close()\n",
    "    return pd.DataFrame(data)\n"
   ]
  },
  {
   "cell_type": "code",
   "execution_count": 71,
   "metadata": {},
   "outputs": [],
   "source": [
    "date = str(datetime.date.today())\n",
    "date\n",
    "root_dir = \"../data/grow\"\n",
    "if not os.path.exists(os.path.join(root_dir, date, \"index\")):\n",
    "    os.makedirs(os.path.join(root_dir, date, \"index\"))\n",
    "    data = get_page_summary(1)\n",
    "    path = os.path.join(root_dir, date, \"index\", \"{}.csv\".format(page))\n",
    "    data.to_csv(path, index=None)"
   ]
  },
  {
   "cell_type": "code",
   "execution_count": null,
   "metadata": {},
   "outputs": [
    {
     "data": {
      "text/html": [
       "<div>\n",
       "<style scoped>\n",
       "    .dataframe tbody tr th:only-of-type {\n",
       "        vertical-align: middle;\n",
       "    }\n",
       "\n",
       "    .dataframe tbody tr th {\n",
       "        vertical-align: top;\n",
       "    }\n",
       "\n",
       "    .dataframe thead th {\n",
       "        text-align: right;\n",
       "    }\n",
       "</style>\n",
       "<table border=\"1\" class=\"dataframe\">\n",
       "  <thead>\n",
       "    <tr style=\"text-align: right;\">\n",
       "      <th></th>\n",
       "      <th>name</th>\n",
       "      <th>link</th>\n",
       "      <th>risk</th>\n",
       "    </tr>\n",
       "  </thead>\n",
       "  <tbody>\n",
       "    <tr>\n",
       "      <th>0</th>\n",
       "      <td>Mirae Asset Tax Saver Fund Direct Growth</td>\n",
       "      <td>https://groww.in/mutual-funds/mirae-asset-tax-...</td>\n",
       "      <td>Very High Risk</td>\n",
       "    </tr>\n",
       "    <tr>\n",
       "      <th>1</th>\n",
       "      <td>SBI Magnum Mid Cap Direct Plan Growth</td>\n",
       "      <td>https://groww.in/mutual-funds/sbi-magnum-midca...</td>\n",
       "      <td>Very High Risk</td>\n",
       "    </tr>\n",
       "    <tr>\n",
       "      <th>2</th>\n",
       "      <td>HDFC Small Cap Fund Direct Growth</td>\n",
       "      <td>https://groww.in/mutual-funds/hdfc-small-cap-f...</td>\n",
       "      <td>Very High Risk</td>\n",
       "    </tr>\n",
       "    <tr>\n",
       "      <th>3</th>\n",
       "      <td>SBI Bluechip Direct Plan Growth</td>\n",
       "      <td>https://groww.in/mutual-funds/sbi-bluechip-fun...</td>\n",
       "      <td>Very High Risk</td>\n",
       "    </tr>\n",
       "    <tr>\n",
       "      <th>4</th>\n",
       "      <td>Tata Small Cap Fund Direct Growth</td>\n",
       "      <td>https://groww.in/mutual-funds/tata-small-cap-f...</td>\n",
       "      <td>Very High Risk</td>\n",
       "    </tr>\n",
       "    <tr>\n",
       "      <th>5</th>\n",
       "      <td>ICICI Prudential Smallcap Fund Direct Plan Growth</td>\n",
       "      <td>https://groww.in/mutual-funds/icici-prudential...</td>\n",
       "      <td>Very High Risk</td>\n",
       "    </tr>\n",
       "    <tr>\n",
       "      <th>6</th>\n",
       "      <td>Axis Midcap Direct Plan Growth</td>\n",
       "      <td>https://groww.in/mutual-funds/axis-midcap-fund...</td>\n",
       "      <td>Very High Risk</td>\n",
       "    </tr>\n",
       "    <tr>\n",
       "      <th>7</th>\n",
       "      <td>Parag Parikh Tax Saver Fund Direct Growth</td>\n",
       "      <td>https://groww.in/mutual-funds/parag-parikh-tax...</td>\n",
       "      <td>Moderately High Risk</td>\n",
       "    </tr>\n",
       "    <tr>\n",
       "      <th>8</th>\n",
       "      <td>Quant Infrastructure Fund Direct Growth</td>\n",
       "      <td>https://groww.in/mutual-funds/quant-infrastruc...</td>\n",
       "      <td>Very High Risk</td>\n",
       "    </tr>\n",
       "    <tr>\n",
       "      <th>9</th>\n",
       "      <td>Bank of India Small Cap Fund Direct Growth</td>\n",
       "      <td>https://groww.in/mutual-funds/boi-axa-small-ca...</td>\n",
       "      <td>Very High Risk</td>\n",
       "    </tr>\n",
       "    <tr>\n",
       "      <th>10</th>\n",
       "      <td>Aditya Birla Sun Life Digital India Fund Direc...</td>\n",
       "      <td>https://groww.in/mutual-funds/birla-sun-life-n...</td>\n",
       "      <td>Very High Risk</td>\n",
       "    </tr>\n",
       "    <tr>\n",
       "      <th>11</th>\n",
       "      <td>Canara Robeco Bluechip Equity Fund Direct Growth</td>\n",
       "      <td>https://groww.in/mutual-funds/canara-robeco-la...</td>\n",
       "      <td>Very High Risk</td>\n",
       "    </tr>\n",
       "    <tr>\n",
       "      <th>12</th>\n",
       "      <td>Quant Active Fund Direct Growth</td>\n",
       "      <td>https://groww.in/mutual-funds/quant-active-fun...</td>\n",
       "      <td>Very High Risk</td>\n",
       "    </tr>\n",
       "    <tr>\n",
       "      <th>13</th>\n",
       "      <td>Bandhan Tax Advantage (ELSS) Direct Plan Growth</td>\n",
       "      <td>https://groww.in/mutual-funds/idfc-tax-advanta...</td>\n",
       "      <td>Very High Risk</td>\n",
       "    </tr>\n",
       "    <tr>\n",
       "      <th>14</th>\n",
       "      <td>SBI Contra Direct Plan Growth</td>\n",
       "      <td>https://groww.in/mutual-funds/sbi-contra-fund-...</td>\n",
       "      <td>Very High Risk</td>\n",
       "    </tr>\n",
       "  </tbody>\n",
       "</table>\n",
       "</div>"
      ],
      "text/plain": [
       "                                                 name  \\\n",
       "0            Mirae Asset Tax Saver Fund Direct Growth   \n",
       "1               SBI Magnum Mid Cap Direct Plan Growth   \n",
       "2                   HDFC Small Cap Fund Direct Growth   \n",
       "3                     SBI Bluechip Direct Plan Growth   \n",
       "4                   Tata Small Cap Fund Direct Growth   \n",
       "5   ICICI Prudential Smallcap Fund Direct Plan Growth   \n",
       "6                      Axis Midcap Direct Plan Growth   \n",
       "7           Parag Parikh Tax Saver Fund Direct Growth   \n",
       "8             Quant Infrastructure Fund Direct Growth   \n",
       "9          Bank of India Small Cap Fund Direct Growth   \n",
       "10  Aditya Birla Sun Life Digital India Fund Direc...   \n",
       "11   Canara Robeco Bluechip Equity Fund Direct Growth   \n",
       "12                    Quant Active Fund Direct Growth   \n",
       "13    Bandhan Tax Advantage (ELSS) Direct Plan Growth   \n",
       "14                      SBI Contra Direct Plan Growth   \n",
       "\n",
       "                                                 link                  risk  \n",
       "0   https://groww.in/mutual-funds/mirae-asset-tax-...        Very High Risk  \n",
       "1   https://groww.in/mutual-funds/sbi-magnum-midca...        Very High Risk  \n",
       "2   https://groww.in/mutual-funds/hdfc-small-cap-f...        Very High Risk  \n",
       "3   https://groww.in/mutual-funds/sbi-bluechip-fun...        Very High Risk  \n",
       "4   https://groww.in/mutual-funds/tata-small-cap-f...        Very High Risk  \n",
       "5   https://groww.in/mutual-funds/icici-prudential...        Very High Risk  \n",
       "6   https://groww.in/mutual-funds/axis-midcap-fund...        Very High Risk  \n",
       "7   https://groww.in/mutual-funds/parag-parikh-tax...  Moderately High Risk  \n",
       "8   https://groww.in/mutual-funds/quant-infrastruc...        Very High Risk  \n",
       "9   https://groww.in/mutual-funds/boi-axa-small-ca...        Very High Risk  \n",
       "10  https://groww.in/mutual-funds/birla-sun-life-n...        Very High Risk  \n",
       "11  https://groww.in/mutual-funds/canara-robeco-la...        Very High Risk  \n",
       "12  https://groww.in/mutual-funds/quant-active-fun...        Very High Risk  \n",
       "13  https://groww.in/mutual-funds/idfc-tax-advanta...        Very High Risk  \n",
       "14  https://groww.in/mutual-funds/sbi-contra-fund-...        Very High Risk  "
      ]
     },
     "execution_count": 67,
     "metadata": {},
     "output_type": "execute_result"
    }
   ],
   "source": [
    "data"
   ]
  },
  {
   "cell_type": "code",
   "execution_count": 2,
   "metadata": {},
   "outputs": [],
   "source": [
    "pool = ThreadPool(2)\n",
    "def fund_scraper(url):\n",
    "    driver = webdriver.Chrome(\n",
    "    service=Service(ChromeDriverManager().install()),\n",
    "    )\n",
    "    driver.get(url)\n",
    "    element = driver.find_element(By.XPATH, \"//div[@class='holdings101Cta cur-po']\")\n",
    "    element.click()"
   ]
  },
  {
   "cell_type": "code",
   "execution_count": 4,
   "metadata": {},
   "outputs": [],
   "source": [
    "url = [\"https://groww.in/mutual-funds/quant-small-cap-fund-direct-plan-growth\"]\n",
    "pool.apply(fund_scraper, url )"
   ]
  },
  {
   "cell_type": "code",
   "execution_count": 5,
   "metadata": {},
   "outputs": [],
   "source": [
    "fund_scraper(url[0])"
   ]
  },
  {
   "cell_type": "code",
   "execution_count": 8,
   "metadata": {},
   "outputs": [],
   "source": [
    "driver = webdriver.Chrome(\n",
    "service=Service(ChromeDriverManager().install()),\n",
    "    )\n",
    "driver.get(url[0])\n",
    "element = driver.find_element(By.XPATH, \"//div[@class='holdings101Cta cur-po']\")\n",
    "element.click()"
   ]
  },
  {
   "cell_type": "code",
   "execution_count": 16,
   "metadata": {},
   "outputs": [],
   "source": [
    "element = driver.find_element(By.XPATH, \"//table[@class='tb10Table holdings101Table']\")"
   ]
  },
  {
   "cell_type": "code",
   "execution_count": 22,
   "metadata": {},
   "outputs": [],
   "source": [
    "tbl = element.get_attribute(\"outerHTML\")"
   ]
  },
  {
   "cell_type": "code",
   "execution_count": 24,
   "metadata": {},
   "outputs": [],
   "source": [
    "df = pd.read_html(tbl)"
   ]
  },
  {
   "cell_type": "code",
   "execution_count": 27,
   "metadata": {},
   "outputs": [
    {
     "data": {
      "text/html": [
       "<div>\n",
       "<style scoped>\n",
       "    .dataframe tbody tr th:only-of-type {\n",
       "        vertical-align: middle;\n",
       "    }\n",
       "\n",
       "    .dataframe tbody tr th {\n",
       "        vertical-align: top;\n",
       "    }\n",
       "\n",
       "    .dataframe thead th {\n",
       "        text-align: right;\n",
       "    }\n",
       "</style>\n",
       "<table border=\"1\" class=\"dataframe\">\n",
       "  <thead>\n",
       "    <tr style=\"text-align: right;\">\n",
       "      <th></th>\n",
       "      <th>Name</th>\n",
       "      <th>Sector</th>\n",
       "      <th>Instrument</th>\n",
       "      <th>Assets</th>\n",
       "    </tr>\n",
       "  </thead>\n",
       "  <tbody>\n",
       "    <tr>\n",
       "      <th>0</th>\n",
       "      <td>Reliance Industries Ltd.</td>\n",
       "      <td>Energy</td>\n",
       "      <td>Equity</td>\n",
       "      <td>6.5%</td>\n",
       "    </tr>\n",
       "    <tr>\n",
       "      <th>1</th>\n",
       "      <td>ITC Ltd.</td>\n",
       "      <td>Consumer Staples</td>\n",
       "      <td>Equity</td>\n",
       "      <td>5.6%</td>\n",
       "    </tr>\n",
       "    <tr>\n",
       "      <th>2</th>\n",
       "      <td>HDFC Bank Ltd.</td>\n",
       "      <td>Financial</td>\n",
       "      <td>Equity</td>\n",
       "      <td>5.3%</td>\n",
       "    </tr>\n",
       "    <tr>\n",
       "      <th>3</th>\n",
       "      <td>Jindal Stainless Ltd.</td>\n",
       "      <td>Metals &amp; Mining</td>\n",
       "      <td>Equity</td>\n",
       "      <td>5.2%</td>\n",
       "    </tr>\n",
       "    <tr>\n",
       "      <th>4</th>\n",
       "      <td>RBL Bank Ltd.</td>\n",
       "      <td>Financial</td>\n",
       "      <td>Equity</td>\n",
       "      <td>4.5%</td>\n",
       "    </tr>\n",
       "    <tr>\n",
       "      <th>...</th>\n",
       "      <td>...</td>\n",
       "      <td>...</td>\n",
       "      <td>...</td>\n",
       "      <td>...</td>\n",
       "    </tr>\n",
       "    <tr>\n",
       "      <th>66</th>\n",
       "      <td>PTC India Financial Services Ltd.</td>\n",
       "      <td>Financial</td>\n",
       "      <td>Equity</td>\n",
       "      <td>0.2%</td>\n",
       "    </tr>\n",
       "    <tr>\n",
       "      <th>67</th>\n",
       "      <td>NACL Industries Ltd.</td>\n",
       "      <td>Chemicals</td>\n",
       "      <td>Equity</td>\n",
       "      <td>0.2%</td>\n",
       "    </tr>\n",
       "    <tr>\n",
       "      <th>68</th>\n",
       "      <td>AGS Transact Technologies Ltd.</td>\n",
       "      <td>Services</td>\n",
       "      <td>Equity</td>\n",
       "      <td>0.2%</td>\n",
       "    </tr>\n",
       "    <tr>\n",
       "      <th>69</th>\n",
       "      <td>Nahar Spinning Mills Ltd.</td>\n",
       "      <td>Textiles</td>\n",
       "      <td>Equity</td>\n",
       "      <td>0.1%</td>\n",
       "    </tr>\n",
       "    <tr>\n",
       "      <th>70</th>\n",
       "      <td>BEML Land Assets Ltd.</td>\n",
       "      <td>Services</td>\n",
       "      <td>Equity</td>\n",
       "      <td>0.1%</td>\n",
       "    </tr>\n",
       "  </tbody>\n",
       "</table>\n",
       "<p>71 rows × 4 columns</p>\n",
       "</div>"
      ],
      "text/plain": [
       "                                 Name            Sector Instrument Assets\n",
       "0            Reliance Industries Ltd.            Energy     Equity   6.5%\n",
       "1                            ITC Ltd.  Consumer Staples     Equity   5.6%\n",
       "2                      HDFC Bank Ltd.         Financial     Equity   5.3%\n",
       "3               Jindal Stainless Ltd.   Metals & Mining     Equity   5.2%\n",
       "4                       RBL Bank Ltd.         Financial     Equity   4.5%\n",
       "..                                ...               ...        ...    ...\n",
       "66  PTC India Financial Services Ltd.         Financial     Equity   0.2%\n",
       "67               NACL Industries Ltd.         Chemicals     Equity   0.2%\n",
       "68     AGS Transact Technologies Ltd.          Services     Equity   0.2%\n",
       "69          Nahar Spinning Mills Ltd.          Textiles     Equity   0.1%\n",
       "70              BEML Land Assets Ltd.          Services     Equity   0.1%\n",
       "\n",
       "[71 rows x 4 columns]"
      ]
     },
     "execution_count": 27,
     "metadata": {},
     "output_type": "execute_result"
    }
   ],
   "source": [
    "df[0]"
   ]
  },
  {
   "cell_type": "code",
   "execution_count": 33,
   "metadata": {},
   "outputs": [],
   "source": [
    "def scrape_fund(name,url):\n",
    "    driver = webdriver.Chrome(\n",
    "    service=Service(ChromeDriverManager().install()),\n",
    "        )\n",
    "    driver.get(url)\n",
    "    element = driver.find_element(By.XPATH, \"//div[@class='holdings101Cta cur-po']\")\n",
    "    element.click()\n",
    "    element = driver.find_element(By.XPATH, \"//table[@class='tb10Table holdings101Table']\")\n",
    "    tbl = element.get_attribute(\"outerHTML\")\n",
    "    df = pd.read_html(tbl)\n",
    "    df[0].to_csv(\"data/grow/2023-04-23/funds/{}.csv\".format(name))\n",
    "    driver.close()\n",
    "def scrape_funds():\n",
    "    date = str(datetime.date.today())\n",
    "    funds_dir = os.path.join(\"data/grow\",date, \"funds\")\n",
    "    index_dir = os.path.join(\"data/grow\",date, \"index\")\n",
    "    index_path = os.path.join(index_dir, os.listdir(index_dir)[0])\n",
    "    if os.path.exists(funds_dir):\n",
    "        return \"already up to date\"\n",
    "    else:\n",
    "        os.mkdir(funds_dir)\n",
    "        index = pd.read_csv(index_path)[[\"name\", \"link\"]].values\n",
    "        # print(index)\n",
    "        pool = ThreadPool(os.cpu_count())\n",
    "        results = pool.starmap(scrape_fund,index)\n"
   ]
  },
  {
   "cell_type": "code",
   "execution_count": 34,
   "metadata": {},
   "outputs": [
    {
     "ename": "NoSuchElementException",
     "evalue": "Message: no such element: Unable to locate element: {\"method\":\"xpath\",\"selector\":\"//div[@class='holdings101Cta cur-po']\"}\n  (Session info: chrome=112.0.5615.165)\nStacktrace:\n#0 0x5582cca90fe3 <unknown>\n#1 0x5582cc7cfd36 <unknown>\n#2 0x5582cc80cc4d <unknown>\n#3 0x5582cc80cd61 <unknown>\n#4 0x5582cc8486a4 <unknown>\n#5 0x5582cc82d8ed <unknown>\n#6 0x5582cc846232 <unknown>\n#7 0x5582cc82d693 <unknown>\n#8 0x5582cc80003a <unknown>\n#9 0x5582cc80117e <unknown>\n#10 0x5582cca52dbd <unknown>\n#11 0x5582cca56c6c <unknown>\n#12 0x5582cca604b0 <unknown>\n#13 0x5582cca57d63 <unknown>\n#14 0x5582cca2ac35 <unknown>\n#15 0x5582cca7b138 <unknown>\n#16 0x5582cca7b2c7 <unknown>\n#17 0x5582cca89093 <unknown>\n#18 0x7f687f8bc609 start_thread\n",
     "output_type": "error",
     "traceback": [
      "\u001b[0;31m---------------------------------------------------------------------------\u001b[0m",
      "\u001b[0;31mNoSuchElementException\u001b[0m                    Traceback (most recent call last)",
      "Cell \u001b[0;32mIn[34], line 1\u001b[0m\n\u001b[0;32m----> 1\u001b[0m scrape_funds()\n",
      "Cell \u001b[0;32mIn[33], line 25\u001b[0m, in \u001b[0;36mscrape_funds\u001b[0;34m()\u001b[0m\n\u001b[1;32m     23\u001b[0m \u001b[39m# print(index)\u001b[39;00m\n\u001b[1;32m     24\u001b[0m pool \u001b[39m=\u001b[39m ThreadPool(os\u001b[39m.\u001b[39mcpu_count())\n\u001b[0;32m---> 25\u001b[0m results \u001b[39m=\u001b[39m pool\u001b[39m.\u001b[39;49mstarmap(scrape_fund,index)\n",
      "File \u001b[0;32m~/miniconda3/envs/gnn/lib/python3.9/multiprocessing/pool.py:372\u001b[0m, in \u001b[0;36mPool.starmap\u001b[0;34m(self, func, iterable, chunksize)\u001b[0m\n\u001b[1;32m    366\u001b[0m \u001b[39mdef\u001b[39;00m \u001b[39mstarmap\u001b[39m(\u001b[39mself\u001b[39m, func, iterable, chunksize\u001b[39m=\u001b[39m\u001b[39mNone\u001b[39;00m):\n\u001b[1;32m    367\u001b[0m \u001b[39m    \u001b[39m\u001b[39m'''\u001b[39;00m\n\u001b[1;32m    368\u001b[0m \u001b[39m    Like `map()` method but the elements of the `iterable` are expected to\u001b[39;00m\n\u001b[1;32m    369\u001b[0m \u001b[39m    be iterables as well and will be unpacked as arguments. Hence\u001b[39;00m\n\u001b[1;32m    370\u001b[0m \u001b[39m    `func` and (a, b) becomes func(a, b).\u001b[39;00m\n\u001b[1;32m    371\u001b[0m \u001b[39m    '''\u001b[39;00m\n\u001b[0;32m--> 372\u001b[0m     \u001b[39mreturn\u001b[39;00m \u001b[39mself\u001b[39;49m\u001b[39m.\u001b[39;49m_map_async(func, iterable, starmapstar, chunksize)\u001b[39m.\u001b[39;49mget()\n",
      "File \u001b[0;32m~/miniconda3/envs/gnn/lib/python3.9/multiprocessing/pool.py:771\u001b[0m, in \u001b[0;36mApplyResult.get\u001b[0;34m(self, timeout)\u001b[0m\n\u001b[1;32m    769\u001b[0m     \u001b[39mreturn\u001b[39;00m \u001b[39mself\u001b[39m\u001b[39m.\u001b[39m_value\n\u001b[1;32m    770\u001b[0m \u001b[39melse\u001b[39;00m:\n\u001b[0;32m--> 771\u001b[0m     \u001b[39mraise\u001b[39;00m \u001b[39mself\u001b[39m\u001b[39m.\u001b[39m_value\n",
      "File \u001b[0;32m~/miniconda3/envs/gnn/lib/python3.9/multiprocessing/pool.py:125\u001b[0m, in \u001b[0;36mworker\u001b[0;34m(inqueue, outqueue, initializer, initargs, maxtasks, wrap_exception)\u001b[0m\n\u001b[1;32m    123\u001b[0m job, i, func, args, kwds \u001b[39m=\u001b[39m task\n\u001b[1;32m    124\u001b[0m \u001b[39mtry\u001b[39;00m:\n\u001b[0;32m--> 125\u001b[0m     result \u001b[39m=\u001b[39m (\u001b[39mTrue\u001b[39;00m, func(\u001b[39m*\u001b[39;49margs, \u001b[39m*\u001b[39;49m\u001b[39m*\u001b[39;49mkwds))\n\u001b[1;32m    126\u001b[0m \u001b[39mexcept\u001b[39;00m \u001b[39mException\u001b[39;00m \u001b[39mas\u001b[39;00m e:\n\u001b[1;32m    127\u001b[0m     \u001b[39mif\u001b[39;00m wrap_exception \u001b[39mand\u001b[39;00m func \u001b[39mis\u001b[39;00m \u001b[39mnot\u001b[39;00m _helper_reraises_exception:\n",
      "File \u001b[0;32m~/miniconda3/envs/gnn/lib/python3.9/multiprocessing/pool.py:51\u001b[0m, in \u001b[0;36mstarmapstar\u001b[0;34m(args)\u001b[0m\n\u001b[1;32m     50\u001b[0m \u001b[39mdef\u001b[39;00m \u001b[39mstarmapstar\u001b[39m(args):\n\u001b[0;32m---> 51\u001b[0m     \u001b[39mreturn\u001b[39;00m \u001b[39mlist\u001b[39;49m(itertools\u001b[39m.\u001b[39;49mstarmap(args[\u001b[39m0\u001b[39;49m], args[\u001b[39m1\u001b[39;49m]))\n",
      "Cell \u001b[0;32mIn[33], line 6\u001b[0m, in \u001b[0;36mscrape_fund\u001b[0;34m(name, url)\u001b[0m\n\u001b[1;32m      2\u001b[0m driver \u001b[39m=\u001b[39m webdriver\u001b[39m.\u001b[39mChrome(\n\u001b[1;32m      3\u001b[0m service\u001b[39m=\u001b[39mService(ChromeDriverManager()\u001b[39m.\u001b[39minstall()),\n\u001b[1;32m      4\u001b[0m     )\n\u001b[1;32m      5\u001b[0m driver\u001b[39m.\u001b[39mget(url)\n\u001b[0;32m----> 6\u001b[0m element \u001b[39m=\u001b[39m driver\u001b[39m.\u001b[39;49mfind_element(By\u001b[39m.\u001b[39;49mXPATH, \u001b[39m\"\u001b[39;49m\u001b[39m//div[@class=\u001b[39;49m\u001b[39m'\u001b[39;49m\u001b[39mholdings101Cta cur-po\u001b[39;49m\u001b[39m'\u001b[39;49m\u001b[39m]\u001b[39;49m\u001b[39m\"\u001b[39;49m)\n\u001b[1;32m      7\u001b[0m element\u001b[39m.\u001b[39mclick()\n\u001b[1;32m      8\u001b[0m element \u001b[39m=\u001b[39m driver\u001b[39m.\u001b[39mfind_element(By\u001b[39m.\u001b[39mXPATH, \u001b[39m\"\u001b[39m\u001b[39m//table[@class=\u001b[39m\u001b[39m'\u001b[39m\u001b[39mtb10Table holdings101Table\u001b[39m\u001b[39m'\u001b[39m\u001b[39m]\u001b[39m\u001b[39m\"\u001b[39m)\n",
      "File \u001b[0;32m~/miniconda3/envs/gnn/lib/python3.9/site-packages/selenium/webdriver/remote/webdriver.py:831\u001b[0m, in \u001b[0;36mWebDriver.find_element\u001b[0;34m(self, by, value)\u001b[0m\n\u001b[1;32m    828\u001b[0m     by \u001b[39m=\u001b[39m By\u001b[39m.\u001b[39mCSS_SELECTOR\n\u001b[1;32m    829\u001b[0m     value \u001b[39m=\u001b[39m \u001b[39mf\u001b[39m\u001b[39m'\u001b[39m\u001b[39m[name=\u001b[39m\u001b[39m\"\u001b[39m\u001b[39m{\u001b[39;00mvalue\u001b[39m}\u001b[39;00m\u001b[39m\"\u001b[39m\u001b[39m]\u001b[39m\u001b[39m'\u001b[39m\n\u001b[0;32m--> 831\u001b[0m \u001b[39mreturn\u001b[39;00m \u001b[39mself\u001b[39;49m\u001b[39m.\u001b[39;49mexecute(Command\u001b[39m.\u001b[39;49mFIND_ELEMENT, {\u001b[39m\"\u001b[39;49m\u001b[39musing\u001b[39;49m\u001b[39m\"\u001b[39;49m: by, \u001b[39m\"\u001b[39;49m\u001b[39mvalue\u001b[39;49m\u001b[39m\"\u001b[39;49m: value})[\u001b[39m\"\u001b[39m\u001b[39mvalue\u001b[39m\u001b[39m\"\u001b[39m]\n",
      "File \u001b[0;32m~/miniconda3/envs/gnn/lib/python3.9/site-packages/selenium/webdriver/remote/webdriver.py:440\u001b[0m, in \u001b[0;36mWebDriver.execute\u001b[0;34m(self, driver_command, params)\u001b[0m\n\u001b[1;32m    438\u001b[0m response \u001b[39m=\u001b[39m \u001b[39mself\u001b[39m\u001b[39m.\u001b[39mcommand_executor\u001b[39m.\u001b[39mexecute(driver_command, params)\n\u001b[1;32m    439\u001b[0m \u001b[39mif\u001b[39;00m response:\n\u001b[0;32m--> 440\u001b[0m     \u001b[39mself\u001b[39;49m\u001b[39m.\u001b[39;49merror_handler\u001b[39m.\u001b[39;49mcheck_response(response)\n\u001b[1;32m    441\u001b[0m     response[\u001b[39m\"\u001b[39m\u001b[39mvalue\u001b[39m\u001b[39m\"\u001b[39m] \u001b[39m=\u001b[39m \u001b[39mself\u001b[39m\u001b[39m.\u001b[39m_unwrap_value(response\u001b[39m.\u001b[39mget(\u001b[39m\"\u001b[39m\u001b[39mvalue\u001b[39m\u001b[39m\"\u001b[39m, \u001b[39mNone\u001b[39;00m))\n\u001b[1;32m    442\u001b[0m     \u001b[39mreturn\u001b[39;00m response\n",
      "File \u001b[0;32m~/miniconda3/envs/gnn/lib/python3.9/site-packages/selenium/webdriver/remote/errorhandler.py:245\u001b[0m, in \u001b[0;36mErrorHandler.check_response\u001b[0;34m(self, response)\u001b[0m\n\u001b[1;32m    243\u001b[0m         alert_text \u001b[39m=\u001b[39m value[\u001b[39m\"\u001b[39m\u001b[39malert\u001b[39m\u001b[39m\"\u001b[39m]\u001b[39m.\u001b[39mget(\u001b[39m\"\u001b[39m\u001b[39mtext\u001b[39m\u001b[39m\"\u001b[39m)\n\u001b[1;32m    244\u001b[0m     \u001b[39mraise\u001b[39;00m exception_class(message, screen, stacktrace, alert_text)  \u001b[39m# type: ignore[call-arg]  # mypy is not smart enough here\u001b[39;00m\n\u001b[0;32m--> 245\u001b[0m \u001b[39mraise\u001b[39;00m exception_class(message, screen, stacktrace)\n",
      "\u001b[0;31mNoSuchElementException\u001b[0m: Message: no such element: Unable to locate element: {\"method\":\"xpath\",\"selector\":\"//div[@class='holdings101Cta cur-po']\"}\n  (Session info: chrome=112.0.5615.165)\nStacktrace:\n#0 0x5582cca90fe3 <unknown>\n#1 0x5582cc7cfd36 <unknown>\n#2 0x5582cc80cc4d <unknown>\n#3 0x5582cc80cd61 <unknown>\n#4 0x5582cc8486a4 <unknown>\n#5 0x5582cc82d8ed <unknown>\n#6 0x5582cc846232 <unknown>\n#7 0x5582cc82d693 <unknown>\n#8 0x5582cc80003a <unknown>\n#9 0x5582cc80117e <unknown>\n#10 0x5582cca52dbd <unknown>\n#11 0x5582cca56c6c <unknown>\n#12 0x5582cca604b0 <unknown>\n#13 0x5582cca57d63 <unknown>\n#14 0x5582cca2ac35 <unknown>\n#15 0x5582cca7b138 <unknown>\n#16 0x5582cca7b2c7 <unknown>\n#17 0x5582cca89093 <unknown>\n#18 0x7f687f8bc609 start_thread\n"
     ]
    }
   ],
   "source": [
    "scrape_funds()"
   ]
  },
  {
   "cell_type": "code",
   "execution_count": null,
   "metadata": {},
   "outputs": [],
   "source": []
  }
 ],
 "metadata": {
  "kernelspec": {
   "display_name": "gnn",
   "language": "python",
   "name": "python3"
  },
  "language_info": {
   "codemirror_mode": {
    "name": "ipython",
    "version": 3
   },
   "file_extension": ".py",
   "mimetype": "text/x-python",
   "name": "python",
   "nbconvert_exporter": "python",
   "pygments_lexer": "ipython3",
   "version": "3.9.16"
  },
  "orig_nbformat": 4
 },
 "nbformat": 4,
 "nbformat_minor": 2
}
