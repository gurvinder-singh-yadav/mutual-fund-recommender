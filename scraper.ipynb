{
 "cells": [
  {
   "cell_type": "code",
   "execution_count": 67,
   "metadata": {},
   "outputs": [],
   "source": [
    "from selenium import webdriver\n",
    "import pandas as pd\n",
    "import os\n",
    "import datetime\n",
    "from multiprocessing.pool import ThreadPool\n",
    "from webdriver_manager.chrome import ChromeDriverManager\n",
    "from selenium.webdriver.chrome.service import Service\n",
    "from selenium.webdriver.common.by import By\n",
    "from selenium.webdriver.chrome.options import Options\n",
    "import glob\n",
    "from bs4 import BeautifulSoup\n",
    "import shutil\n",
    "chromeOptions = Options()\n",
    "import json"
   ]
  },
  {
   "cell_type": "code",
   "execution_count": 85,
   "metadata": {},
   "outputs": [],
   "source": [
    "def get_stock_info(stock):\n",
    "        i, (name, url) = stock\n",
    "        driver = webdriver.Chrome(\n",
    "        ChromeDriverManager().install(),\n",
    "                )\n",
    "        driver.get(url)\n",
    "        stock = {}\n",
    "        element = driver.find_element(By.XPATH, \"//body[1]/div[1]/div[2]/div[2]/div[1]/div[1]/div[1]/div[1]/div[1]/div[1]/div[2]/div[1]/div[1]/div[4]/div[1]/section[1]/section[1]/div[1]/div[1]/div[2]/div[1]/div[2]/div[1]\")\n",
    "        stock[\"todaymin\"] = element.get_attribute(\"aria-valuemin\")\n",
    "        stock[\"todaymax\"] =  element.get_attribute(\"aria-valuemax\")\n",
    "        stock[\"todaynow\"] = element.get_attribute(\"aria-valuenow\")\n",
    "        element = driver.find_element(By.XPATH, \"//body[1]/div[1]/div[2]/div[2]/div[1]/div[1]/div[1]/div[1]/div[1]/div[1]/div[2]/div[1]/div[1]/div[4]/div[1]/section[1]/section[1]/div[1]/div[1]/div[2]/div[2]/div[2]/div[1]\")\n",
    "        stock[\"52min\"] = element.get_attribute(\"aria-valuemin\")\n",
    "        stock[\"52max\"] =  element.get_attribute(\"aria-valuemax\")\n",
    "        stock[\"52now\"] = element.get_attribute(\"aria-valuenow\")\n",
    "        xpath = \"//body/div[@id='__next']/div[@id='root']/div/div[contains(@class,'container web-align')]/div[@class='row pw14Container']/div[@class='pw14MainWrapper']/div[@class='pw14ContentWrapper']/div[@class='col l12']/div[@class='container web-align']/div[@class='col l12 stkP12BelowFoldDiv']/div[@class='col l12 stkP12BelowFoldInnerCont']/div[@class='col l12']/div[@class='col l12']/div[@class='col l12']/section/section/div[@class='onMount-appear-done onMount-enter-done']/div[1]\"\n",
    "        div = driver.find_element(By.XPATH, xpath)\n",
    "        innerhtml = div.get_attribute(\"innerHTML\")\n",
    "        soup = BeautifulSoup(innerhtml, \"html.parser\")\n",
    "        names = [i.text for i in soup.find_all(\"div\", {\"class\" : \"stpp34KeyText stpp34KeyTextStk fs14\"})]\n",
    "        values = [i.text for i in soup.find_all(\"span\", {\"class\": \"stpp34Value fs16\"})]\n",
    "        element = driver.find_element(By.XPATH, \"//table[@class='tb10Table col l12 ft785Table']\")\n",
    "        trs = element.find_elements(By.TAG_NAME, \"tr\")\n",
    "        for i in range(len(trs)):\n",
    "                tds = trs[i].find_elements(By.TAG_NAME, \"td\")\n",
    "                names.append(tds[0].text)\n",
    "                values.append(tds[1].text)\n",
    "        xpath =  \"//div[@class='col l12 stkP12Section onMount-appear-done onMount-enter-done']//table[1]\"\n",
    "        element = driver.find_element(By.XPATH, xpath)\n",
    "        trs = element.find_elements(By.TAG_NAME, \"tr\")\n",
    "        for i in range(len(trs)):\n",
    "                tds = trs[i].find_elements(By.TAG_NAME, \"td\")\n",
    "                names.append(tds[0].text)\n",
    "                values.append(tds[1].text)\n",
    "        xpath = \"//div[@class='col l12 stkP12Section onMount-appear-done onMount-enter-done']//table[2]\"\n",
    "        element = driver.find_element(By.XPATH, xpath)\n",
    "        trs = element.find_elements(By.TAG_NAME, \"tr\")\n",
    "        for i in range(len(trs)):\n",
    "                tds = trs[i].find_elements(By.TAG_NAME, \"td\")\n",
    "                names.append(tds[0].text)\n",
    "                values.append(tds[1].text)\n",
    "        stock.update(dict(zip(names, values)))\n",
    "        driver.close()\n",
    "        root_dir = \"data/stock\"\n",
    "        path = os.path.join(root_dir, \"{}.json\".format(i))\n",
    "        result = {\"name\" : name, \n",
    "                  \"info\" : stock\n",
    "                        }\n",
    "        with open(path, 'w') as f:\n",
    "            json.dump(result, f, indent=4)\n",
    "        return \"Done\"\n",
    "        \n",
    "def get_stocks_info():\n",
    "    df = pd.read_csv(\"data/stocks.csv\")\n",
    "    root_dir = \"data/stock\"\n",
    "    if not os.path.exists(root_dir):\n",
    "        os.mkdir(root_dir)\n",
    "    pool = ThreadPool(os.cpu_count())\n",
    "    pool.map(get_stock_info,enumerate(df.values[:10]) )"
   ]
  },
  {
   "cell_type": "code",
   "execution_count": 84,
   "metadata": {},
   "outputs": [],
   "source": [
    "get_stocks_info()"
   ]
  },
  {
   "cell_type": "code",
   "execution_count": 82,
   "metadata": {},
   "outputs": [],
   "source": [
    "url = \"https://groww.in/stocks/linde-india-ltd\""
   ]
  },
  {
   "cell_type": "code",
   "execution_count": 65,
   "metadata": {},
   "outputs": [],
   "source": [
    "res = get_stock_info(url)"
   ]
  },
  {
   "cell_type": "code",
   "execution_count": 66,
   "metadata": {},
   "outputs": [
    {
     "data": {
      "text/plain": [
       "{'todaymin': '3895.9',\n",
       " 'todaymax': '3970.1',\n",
       " 'todaynow': '3952.15',\n",
       " '52min': '2710',\n",
       " '52max': '4269.2',\n",
       " '52now': '3952.15',\n",
       " 'Open': '3,925.00',\n",
       " 'Prev. Close': '3,908.80',\n",
       " 'Volume': '30,745',\n",
       " 'Total traded value': '12.15 Cr',\n",
       " 'Upper Circuit': '4,690.55',\n",
       " 'Lower Circuit': '3,127.05',\n",
       " 'Market Cap': '₹33,336Cr',\n",
       " 'ROE': '20.50%',\n",
       " 'P/E Ratio(TTM)': '75.97',\n",
       " 'EPS(TTM)': '51.45',\n",
       " 'P/B Ratio': '12.28',\n",
       " 'Dividend Yield': '0.09%',\n",
       " 'Industry P/E': '16.38',\n",
       " 'Book Value': '356.45',\n",
       " 'Debt to Equity': '0.01',\n",
       " 'Face Value': '10',\n",
       " 'Parent Organisation': 'Linde India Limited',\n",
       " 'Founded': '1935',\n",
       " 'Managing Director': 'Mr. Abhijit Banerjee',\n",
       " 'NSE Symbol': 'LINDEINDIA'}"
      ]
     },
     "execution_count": 66,
     "metadata": {},
     "output_type": "execute_result"
    }
   ],
   "source": [
    "res"
   ]
  },
  {
   "cell_type": "code",
   "execution_count": 3,
   "metadata": {},
   "outputs": [],
   "source": [
    "driver = webdriver.Chrome(\n",
    "ChromeDriverManager().install(),\n",
    "        )\n",
    "driver.get(url)\n"
   ]
  },
  {
   "cell_type": "code",
   "execution_count": null,
   "metadata": {},
   "outputs": [],
   "source": []
  },
  {
   "cell_type": "code",
   "execution_count": 4,
   "metadata": {},
   "outputs": [],
   "source": [
    "element = driver.find_element(By.XPATH, \"//body[1]/div[1]/div[2]/div[2]/div[1]/div[1]/div[1]/div[1]/div[1]/div[1]/div[2]/div[1]/div[1]/div[4]/div[1]/section[1]/section[1]/div[1]/div[1]/div[2]/div[1]/div[2]/div[1]\")"
   ]
  },
  {
   "cell_type": "code",
   "execution_count": 5,
   "metadata": {},
   "outputs": [
    {
     "data": {
      "text/plain": [
       "'3895.9'"
      ]
     },
     "execution_count": 5,
     "metadata": {},
     "output_type": "execute_result"
    }
   ],
   "source": [
    "element.get_attribute(\"aria-valuemin\")\n"
   ]
  },
  {
   "cell_type": "code",
   "execution_count": 6,
   "metadata": {},
   "outputs": [
    {
     "data": {
      "text/plain": [
       "'3970.1'"
      ]
     },
     "execution_count": 6,
     "metadata": {},
     "output_type": "execute_result"
    }
   ],
   "source": [
    "element.get_attribute(\"aria-valuemax\")\n"
   ]
  },
  {
   "cell_type": "code",
   "execution_count": 7,
   "metadata": {},
   "outputs": [
    {
     "data": {
      "text/plain": [
       "'3952.15'"
      ]
     },
     "execution_count": 7,
     "metadata": {},
     "output_type": "execute_result"
    }
   ],
   "source": [
    "element.get_attribute(\"aria-valuenow\")\n"
   ]
  },
  {
   "cell_type": "code",
   "execution_count": 8,
   "metadata": {},
   "outputs": [],
   "source": [
    "element = driver.find_element(By.XPATH, \"//body[1]/div[1]/div[2]/div[2]/div[1]/div[1]/div[1]/div[1]/div[1]/div[1]/div[2]/div[1]/div[1]/div[4]/div[1]/section[1]/section[1]/div[1]/div[1]/div[2]/div[2]/div[2]/div[1]\")"
   ]
  },
  {
   "cell_type": "code",
   "execution_count": 9,
   "metadata": {},
   "outputs": [
    {
     "data": {
      "text/plain": [
       "'2710'"
      ]
     },
     "execution_count": 9,
     "metadata": {},
     "output_type": "execute_result"
    }
   ],
   "source": [
    "element.get_attribute(\"aria-valuemin\")\n"
   ]
  },
  {
   "cell_type": "code",
   "execution_count": 10,
   "metadata": {},
   "outputs": [
    {
     "data": {
      "text/plain": [
       "'4269.2'"
      ]
     },
     "execution_count": 10,
     "metadata": {},
     "output_type": "execute_result"
    }
   ],
   "source": [
    "element.get_attribute(\"aria-valuemax\")\n"
   ]
  },
  {
   "cell_type": "code",
   "execution_count": 11,
   "metadata": {},
   "outputs": [
    {
     "data": {
      "text/plain": [
       "'3952.15'"
      ]
     },
     "execution_count": 11,
     "metadata": {},
     "output_type": "execute_result"
    }
   ],
   "source": [
    "element.get_attribute(\"aria-valuenow\")\n"
   ]
  },
  {
   "cell_type": "code",
   "execution_count": 12,
   "metadata": {},
   "outputs": [],
   "source": [
    "elements = driver.find_elements(By.CLASS_NAME, \"stpp34KeyText stpp34KeyTextStk fs14\")"
   ]
  },
  {
   "cell_type": "code",
   "execution_count": 13,
   "metadata": {},
   "outputs": [
    {
     "data": {
      "text/plain": [
       "[]"
      ]
     },
     "execution_count": 13,
     "metadata": {},
     "output_type": "execute_result"
    }
   ],
   "source": [
    "elements"
   ]
  },
  {
   "cell_type": "code",
   "execution_count": 25,
   "metadata": {},
   "outputs": [],
   "source": [
    "xpath = \"//body/div[@id='__next']/div[@id='root']/div/div[contains(@class,'container web-align')]/div[@class='row pw14Container']/div[@class='pw14MainWrapper']/div[@class='pw14ContentWrapper']/div[@class='col l12']/div[@class='container web-align']/div[@class='col l12 stkP12BelowFoldDiv']/div[@class='col l12 stkP12BelowFoldInnerCont']/div[@class='col l12']/div[@class='col l12']/div[@class='col l12']/section/section/div[@class='onMount-appear-done onMount-enter-done']/div[1]\""
   ]
  },
  {
   "cell_type": "code",
   "execution_count": 26,
   "metadata": {},
   "outputs": [],
   "source": [
    "div = driver.find_element(By.XPATH, xpath)"
   ]
  },
  {
   "cell_type": "code",
   "execution_count": 27,
   "metadata": {},
   "outputs": [],
   "source": [
    "innerhtml = div.get_attribute(\"innerHTML\")"
   ]
  },
  {
   "cell_type": "code",
   "execution_count": 28,
   "metadata": {},
   "outputs": [],
   "source": [
    "soup = BeautifulSoup(innerhtml, \"html.parser\")"
   ]
  },
  {
   "cell_type": "code",
   "execution_count": 30,
   "metadata": {},
   "outputs": [
    {
     "data": {
      "text/plain": [
       "[<div class=\"stpp34KeyText stpp34KeyTextStk fs14\">Open</div>,\n",
       " <div class=\"stpp34KeyText stpp34KeyTextStk fs14\">Prev. Close</div>,\n",
       " <div class=\"stpp34KeyText stpp34KeyTextStk fs14\">Volume</div>,\n",
       " <div class=\"stpp34KeyText stpp34KeyTextStk fs14\">Total traded value</div>,\n",
       " <div class=\"stpp34KeyText stpp34KeyTextStk fs14\">Upper Circuit</div>,\n",
       " <div class=\"stpp34KeyText stpp34KeyTextStk fs14\">Lower Circuit</div>]"
      ]
     },
     "execution_count": 30,
     "metadata": {},
     "output_type": "execute_result"
    }
   ],
   "source": [
    "soup.find_all(\"div\", {\"class\" : \"stpp34KeyText stpp34KeyTextStk fs14\"})"
   ]
  },
  {
   "cell_type": "code",
   "execution_count": 31,
   "metadata": {},
   "outputs": [
    {
     "data": {
      "text/plain": [
       "<div class=\"valign-wrapper\"><h2 class=\"stpp34MainHeading fs20\">Performance</h2><svg class=\"absolute-center stpp34InfoIcon\" fill=\"currentColor\" height=\"20\" viewbox=\"0 0 24 24\" width=\"20\" xmlns=\"http://www.w3.org/2000/svg\"><path d=\"M0 0h24v24H0z\" fill=\"none\"></path><path d=\"M12 2C6.48 2 2 6.48 2 12s4.48 10 10 10 10-4.48 10-10S17.52 2 12 2zm1 15h-2v-6h2v6zm0-8h-2V7h2v2z\"></path></svg></div><div class=\"col l12\"><div class=\"pbar29MainDiv valign-wrapper\"><div class=\"pbar29SubDiv left-align\"><div class=\"pbar29KeyText fs14\">Today’s Low</div><div class=\"pbar29Value fs16\"><div><span>3,895.90</span></div></div></div><div class=\"pbar29RangesliderWrapper\"><div aria-orientation=\"horizontal\" aria-valuemax=\"3970.1\" aria-valuemin=\"3895.9\" aria-valuenow=\"3952.15\" class=\"pbar29Rangeslider pbar29Horizontal\"><div class=\"pbar29RangesliderFill width100 pbar29Grey\"></div><div class=\"pbar29RangesliderHandle\" style=\"left: 75.8086%;\" tabindex=\"0\"></div><ul class=\"pbar29RangesliderLabels\"></ul></div></div><div class=\"pbar29SubDiv right-align\"><div class=\"pbar29KeyText fs14\">Today’s High</div><div class=\"pbar29Value fs16\"><div><span>3,970.10</span></div></div></div></div><div class=\"pbar29MainDiv valign-wrapper\"><div class=\"pbar29SubDiv left-align\"><div class=\"pbar29KeyText fs14\">52W Low</div><div class=\"pbar29Value fs16\"><div><span>2,710.00</span></div></div></div><div class=\"pbar29RangesliderWrapper\"><div aria-orientation=\"horizontal\" aria-valuemax=\"4269.2\" aria-valuemin=\"2710\" aria-valuenow=\"3952.15\" class=\"pbar29Rangeslider pbar29Horizontal\"><div class=\"pbar29RangesliderFill width100 pbar29Grey\"></div><div class=\"pbar29RangesliderHandle\" style=\"left: 79.6659%;\" tabindex=\"0\"></div><ul class=\"pbar29RangesliderLabels\"></ul></div></div><div class=\"pbar29SubDiv right-align\"><div class=\"pbar29KeyText fs14\">52W High</div><div class=\"pbar29Value fs16\"><div><span>4,269.20</span></div></div></div></div></div><div class=\"col l12 stpp34DividerHz\"></div><div class=\"col l12\"><div class=\"row\"><div class=\"col l3\"><div class=\"stpp34KeyText stpp34KeyTextStk fs14\">Open</div><span class=\"stpp34Value fs16\">3,925.00</span></div><div class=\"col l3\"><div class=\"stpp34KeyText stpp34KeyTextStk fs14\">Prev. Close</div><span class=\"stpp34Value fs16\">3,908.80</span></div><div class=\"col l3\"><div class=\"stpp34KeyText stpp34KeyTextStk fs14\">Volume</div><span class=\"stpp34Value fs16\">30,745</span></div><div class=\"col l3\"><div class=\"stpp34KeyText stpp34KeyTextStk fs14\">Total traded value</div><span class=\"stpp34Value fs16\">12.15 Cr</span></div><div class=\"col l3\"><div class=\"stpp34KeyText stpp34KeyTextStk fs14\">Upper Circuit</div><span class=\"stpp34Value fs16\">4,690.55</span></div><div class=\"col l3\"><div class=\"stpp34KeyText stpp34KeyTextStk fs14\">Lower Circuit</div><span class=\"stpp34Value fs16\">3,127.05</span></div></div></div>"
      ]
     },
     "execution_count": 31,
     "metadata": {},
     "output_type": "execute_result"
    }
   ],
   "source": [
    "soup"
   ]
  },
  {
   "cell_type": "code",
   "execution_count": 32,
   "metadata": {},
   "outputs": [
    {
     "data": {
      "text/plain": [
       "[<span class=\"stpp34Value fs16\">3,925.00</span>,\n",
       " <span class=\"stpp34Value fs16\">3,908.80</span>,\n",
       " <span class=\"stpp34Value fs16\">30,745</span>,\n",
       " <span class=\"stpp34Value fs16\">12.15 Cr</span>,\n",
       " <span class=\"stpp34Value fs16\">4,690.55</span>,\n",
       " <span class=\"stpp34Value fs16\">3,127.05</span>]"
      ]
     },
     "execution_count": 32,
     "metadata": {},
     "output_type": "execute_result"
    }
   ],
   "source": [
    "soup.find_all(\"span\", {\"class\": \"stpp34Value fs16\"})"
   ]
  },
  {
   "cell_type": "code",
   "execution_count": 34,
   "metadata": {},
   "outputs": [],
   "source": [
    "element = driver.find_element(By.XPATH, \"//table[@class='tb10Table col l12 ft785Table']\")"
   ]
  },
  {
   "cell_type": "code",
   "execution_count": 37,
   "metadata": {},
   "outputs": [],
   "source": [
    "trs = element.find_elements(By.TAG_NAME, \"tr\")"
   ]
  },
  {
   "cell_type": "code",
   "execution_count": 40,
   "metadata": {},
   "outputs": [
    {
     "data": {
      "text/plain": [
       "'Market Cap'"
      ]
     },
     "execution_count": 40,
     "metadata": {},
     "output_type": "execute_result"
    }
   ],
   "source": [
    "trs[0].find_elements(By.TAG_NAME, \"td\")[0].text"
   ]
  },
  {
   "cell_type": "code",
   "execution_count": null,
   "metadata": {},
   "outputs": [],
   "source": []
  }
 ],
 "metadata": {
  "kernelspec": {
   "display_name": "gnn",
   "language": "python",
   "name": "python3"
  },
  "language_info": {
   "codemirror_mode": {
    "name": "ipython",
    "version": 3
   },
   "file_extension": ".py",
   "mimetype": "text/x-python",
   "name": "python",
   "nbconvert_exporter": "python",
   "pygments_lexer": "ipython3",
   "version": "3.9.16"
  },
  "orig_nbformat": 4
 },
 "nbformat": 4,
 "nbformat_minor": 2
}
