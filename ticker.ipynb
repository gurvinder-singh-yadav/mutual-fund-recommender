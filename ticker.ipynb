{
 "cells": [
  {
   "cell_type": "code",
   "execution_count": 156,
   "metadata": {},
   "outputs": [],
   "source": [
    "from selenium import webdriver\n",
    "from selenium.webdriver.common.keys import Keys\n",
    "import pandas as pd\n",
    "from tqdm import tqdm\n",
    "from selenium.webdriver.common.by import By"
   ]
  },
  {
   "cell_type": "code",
   "execution_count": 157,
   "metadata": {},
   "outputs": [
    {
     "name": "stderr",
     "output_type": "stream",
     "text": [
      "/tmp/ipykernel_32434/4154407828.py:1: DeprecationWarning: executable_path has been deprecated, please pass in a Service object\n",
      "  driver = webdriver.Chrome('chromedriver_linux64/chromedriver')\n"
     ]
    }
   ],
   "source": [
    "driver = webdriver.Chrome('chromedriver_linux64/chromedriver')"
   ]
  },
  {
   "cell_type": "code",
   "execution_count": 158,
   "metadata": {},
   "outputs": [],
   "source": [
    "driver.get(\"https://ticker.finology.in/investor\")"
   ]
  },
  {
   "cell_type": "code",
   "execution_count": 159,
   "metadata": {},
   "outputs": [
    {
     "name": "stderr",
     "output_type": "stream",
     "text": [
      "100%|██████████| 70/70 [00:57<00:00,  1.22it/s]\n"
     ]
    }
   ],
   "source": [
    "fundsUrl = []\n",
    "for i in tqdm(range(0,70)):\n",
    "                # table = driver.find_element(By.CLASS_NAME, \"col-12 col-md-3\")\n",
    "                table = driver.find_element(By.XPATH,\"/html/body/form/div[5]/div[2]\")\n",
    "                aTags = table.find_elements(By.TAG_NAME, \"a\")\n",
    "                for a in aTags:\n",
    "                    link = a.get_attribute('href')\n",
    "                    fundsUrl.append(link)"
   ]
  },
  {
   "cell_type": "code",
   "execution_count": 160,
   "metadata": {},
   "outputs": [
    {
     "name": "stderr",
     "output_type": "stream",
     "text": [
      "100%|██████████| 70/70 [08:46<00:00,  7.52s/it]\n"
     ]
    }
   ],
   "source": [
    "for i in tqdm(range(0,70)):\n",
    "                table=[]\n",
    "                driver.get(fundsUrl[i])\n",
    "                rows= driver.find_element(By.TAG_NAME,\"tbody\")\n",
    "                tr_tags =rows.find_elements(By.TAG_NAME,\"tr\")\n",
    "                for tr in tr_tags:\n",
    "                   cols=[]\n",
    "                   td_tags=tr.find_elements(By.TAG_NAME,'td')\n",
    "                   driver.execute_script(\"arguments[0].scrollIntoView()\",tr)\n",
    "\n",
    "                   for col in td_tags:\n",
    "                       cols.append(col.text)  \n",
    "                   table.append(cols)\n",
    "                file_name = fundsUrl[i].split(\"/\")[-1]\n",
    "                df = pd.DataFrame(table)\n",
    "                df.to_csv(\"data/\" +file_name +\".csv\", index=None)\n",
    "                                                            \n",
    "                        \n",
    "                    "
   ]
  },
  {
   "cell_type": "code",
   "execution_count": null,
   "metadata": {},
   "outputs": [],
   "source": []
  }
 ],
 "metadata": {
  "kernelspec": {
   "display_name": "gsoc",
   "language": "python",
   "name": "python3"
  },
  "language_info": {
   "codemirror_mode": {
    "name": "ipython",
    "version": 3
   },
   "file_extension": ".py",
   "mimetype": "text/x-python",
   "name": "python",
   "nbconvert_exporter": "python",
   "pygments_lexer": "ipython3",
   "version": "3.9.16"
  },
  "orig_nbformat": 4
 },
 "nbformat": 4,
 "nbformat_minor": 2
}
