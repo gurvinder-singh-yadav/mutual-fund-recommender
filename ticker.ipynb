{
 "cells": [
  {
   "cell_type": "code",
   "execution_count": 17,
   "metadata": {},
   "outputs": [],
   "source": [
    "from selenium import webdriver\n",
    "from selenium.webdriver.common.keys import Keys\n",
    "import pandas as pd\n",
    "from tqdm import tqdm\n",
    "from selenium.webdriver.common.by import By\n",
    "import datetime \n",
    "from selenium.webdriver.chrome.service import Service\n",
    "import os\n",
    "from webdriver_manager.chrome import ChromeDriverManager"
   ]
  },
  {
   "cell_type": "code",
   "execution_count": 18,
   "metadata": {},
   "outputs": [
    {
     "name": "stderr",
     "output_type": "stream",
     "text": [
      "/tmp/ipykernel_60348/4154407828.py:1: DeprecationWarning: executable_path has been deprecated, please pass in a Service object\n",
      "  driver = webdriver.Chrome('chromedriver_linux64/chromedriver')\n"
     ]
    }
   ],
   "source": [
    "driver = webdriver.Chrome('chromedriver_linux64/chromedriver')"
   ]
  },
  {
   "cell_type": "code",
   "execution_count": 19,
   "metadata": {},
   "outputs": [],
   "source": [
    "driver.get(\"https://ticker.finology.in/investor\")"
   ]
  },
  {
   "cell_type": "code",
   "execution_count": 20,
   "metadata": {},
   "outputs": [
    {
     "name": "stderr",
     "output_type": "stream",
     "text": [
      "100%|██████████| 70/70 [00:57<00:00,  1.22it/s]\n"
     ]
    }
   ],
   "source": [
    "fundsUrl = []\n",
    "for i in tqdm(range(0,70)):\n",
    "                # table = driver.find_element(By.CLASS_NAME, \"col-12 col-md-3\")\n",
    "                table = driver.find_element(By.XPATH,\"/html/body/form/div[5]/div[2]\")\n",
    "                aTags = table.find_elements(By.TAG_NAME, \"a\")\n",
    "                for a in aTags:\n",
    "                    link = a.get_attribute('href')\n",
    "                    fundsUrl.append(link)"
   ]
  },
  {
   "cell_type": "code",
   "execution_count": 22,
   "metadata": {},
   "outputs": [
    {
     "name": "stderr",
     "output_type": "stream",
     "text": [
      "100%|██████████| 1/1 [00:06<00:00,  6.48s/it]\n"
     ]
    }
   ],
   "source": [
    "for i in tqdm(range(0,1)):\n",
    "                table=[]\n",
    "                driver.get(fundsUrl[i])\n",
    "                rows= driver.find_element(By.TAG_NAME,\"tbody\")\n",
    "                tr_tags =rows.find_elements(By.TAG_NAME,\"tr\")\n",
    "                for tr in tr_tags:\n",
    "                   cols=[]\n",
    "                   td_tags=tr.find_elements(By.TAG_NAME,'td')\n",
    "                   driver.execute_script(\"arguments[0].scrollIntoView()\",tr)\n",
    "\n",
    "                   for col in td_tags:\n",
    "                       cols.append(col.text)  \n",
    "                   table.append(cols)\n",
    "                file_name = fundsUrl[i].split(\"/\")[-1]\n",
    "                df = pd.DataFrame(table)\n",
    "                df.to_csv(\"data/\" +file_name +\".csv\", index=None)\n",
    "                                                            \n",
    "                        \n",
    "                    "
   ]
  },
  {
   "cell_type": "code",
   "execution_count": null,
   "metadata": {},
   "outputs": [],
   "source": [
    "\n",
    "root_dir = \"data/tick\"\n",
    "date = str(datetime.date.today())\n",
    "funds_path=os.path.join(root_dir, date, \"fundst\")\n",
    "index_path = os.path.join(root_dir, date,\"indext\", \"indext.csv\" )\n",
    "  "
   ]
  },
  {
   "cell_type": "code",
   "execution_count": 45,
   "metadata": {},
   "outputs": [
    {
     "name": "stdout",
     "output_type": "stream",
     "text": [
      "https://ticker.finology.in/investor/abakkus-fund-sunil-singhania\n",
      "['S.NO.', 'S.NO.']\n",
      "2\n"
     ]
    }
   ],
   "source": [
    "if  os.path.exists(funds_path):\n",
    "    #  os.makedirs(os.path.join(root_dir, date, \"fundst\"))\n",
    "\n",
    "     df = pd.read_csv(index_path)\n",
    "     fundsUrl = df.values.reshape(-1)\n",
    "     driver = webdriver.Chrome(\n",
    "     service=Service(ChromeDriverManager().install()),\n",
    "        )\n",
    "     for i in range(0,1):\n",
    "                table=[]\n",
    "                temp = 0\n",
    "                print(fundsUrl[i])\n",
    "                driver.get(fundsUrl[i])\n",
    "               #  thead=driver.find_element(By.XPATH,\"//div[@class='fixed-table-header']//thead\")\n",
    "               #  trs = thead.find_elements(By.XPATH,\"//div[@class='fixed-table-header']//tr\")\n",
    "               #  headings = []\n",
    "               #  for tr in trs:\n",
    "               #        th= tr.find_element(By.TAG_NAME,\"th\")\n",
    "                      \n",
    "               #        headings.append(th.text)\n",
    "               #        temp = temp+1\n",
    "               #  print(headings)\n",
    "               #  print(temp)\n",
    "\n",
    "               #  tr = thead.find_element(By.TAG_NAME, \"tr\")\n",
    "               #   driver.execute_script(\"arguments[0].scrollIntoView()\",tr)\n",
    "               #  ths = tr.find_elements(By.TAG_NAME, \"th\")\n",
    "                \n",
    "               #  for th in ths:\n",
    "                 \n",
    "               #   headings=[]\n",
    "               #   headings.append(th.text)\n",
    "               #  print(headings)\n",
    "                rows= driver.find_element(By.TAG_NAME,\"tbody\")\n",
    "                tr_tags =rows.find_elements(By.TAG_NAME,\"tr\")\n",
    "                for tr in tr_tags:\n",
    "                   cols=[]\n",
    "                   td_tags=tr.find_elements(By.TAG_NAME,'td')\n",
    "                   driver.execute_script(\"arguments[0].scrollIntoView()\",tr)\n",
    "\n",
    "                   for col in td_tags:\n",
    "                       cols.append(col.text)  \n",
    "                   table.append(cols)\n",
    "                file_name = fundsUrl[i].split(\"/\")[-1]\n",
    "                df = pd.DataFrame(table)\n",
    "                date = str(datetime.date.today())\n",
    "                df.to_csv(funds_path + \"/{}.csv\".format(file_name), index=None)\n",
    "     driver.close()\n",
    "    "
   ]
  },
  {
   "cell_type": "code",
   "execution_count": null,
   "metadata": {},
   "outputs": [],
   "source": []
  }
 ],
 "metadata": {
  "kernelspec": {
   "display_name": "gsoc",
   "language": "python",
   "name": "python3"
  },
  "language_info": {
   "codemirror_mode": {
    "name": "ipython",
    "version": 3
   },
   "file_extension": ".py",
   "mimetype": "text/x-python",
   "name": "python",
   "nbconvert_exporter": "python",
   "pygments_lexer": "ipython3",
   "version": "3.9.16"
  },
  "orig_nbformat": 4
 },
 "nbformat": 4,
 "nbformat_minor": 2
}
