{
 "cells": [
  {
   "cell_type": "code",
   "execution_count": 46,
   "metadata": {},
   "outputs": [],
   "source": [
    "from selenium import webdriver\n",
    "from webdriver_manager.chrome import ChromeDriverManager\n",
    "from selenium.webdriver.chrome.service import Service\n",
    "from selenium.webdriver.common.by import By\n",
    "from selenium.webdriver.common.keys import Keys\n",
    "import time\n",
    "import pandas as pd\n",
    "import os\n",
    "import json"
   ]
  },
  {
   "cell_type": "code",
   "execution_count": 47,
   "metadata": {},
   "outputs": [],
   "source": [
    "def get_stock_details(name) :\n",
    "    root_dir = \"data/stocks\"\n",
    "    driver = webdriver.Chrome(\n",
    "    service=Service(ChromeDriverManager().install()),\n",
    "    )\n",
    "    driver.get(\"https://groww.in/#\")\n",
    "    stock_details=[]\n",
    "    driver.find_element(By.XPATH,\"//input[@id='globalSearch23']\").send_keys(name) \n",
    "    time.sleep(1)\n",
    "    driver.find_element(By.XPATH,\"//input[@id='globalSearch23']\").send_keys(Keys.ENTER)\n",
    "    time.sleep(5)\n",
    "    table = driver.find_element(By.XPATH,\"(//tbody)[1]\")\n",
    "    trs = table.find_elements(By.TAG_NAME,\"tr\")\n",
    "    for tr in trs:\n",
    "        td = tr.find_elements(By.TAG_NAME,\"td\")\n",
    "        for tds in td:\n",
    "         stock_details.append(tds.text)\n",
    "    print(stock_details)\n",
    "    # dict1 = {\"1\":(stock_details)}\n",
    "    # df = pd.DataFrame(dict1)\n",
    "    col = []\n",
    "    results = []\n",
    "    col.append('Parameter')\n",
    "    results.append('results')\n",
    "    for i, res in enumerate(stock_details):\n",
    "        if(i%2==0):\n",
    "            col.append(res)\n",
    "        else:\n",
    "            results.append(res)\n",
    "    dict1 = dict(zip(col, results))\n",
    "\n",
    "    # os.makedirs(os.path.join(root_dir,name))\n",
    "    path = root_dir + \"/{}.json\".format(name)\n",
    "    \n",
    "    with open(path, \"w\") as f:\n",
    "        json.dump(dict1, f, indent=4)\n",
    "    driver.close()\n",
    "    return \n",
    "        \n",
    "    \n"
   ]
  },
  {
   "cell_type": "code",
   "execution_count": 48,
   "metadata": {},
   "outputs": [
    {
     "ename": "NoSuchElementException",
     "evalue": "Message: no such element: Unable to locate element: {\"method\":\"xpath\",\"selector\":\"(//tbody)[1]\"}\n  (Session info: chrome=112.0.5615.165)\nStacktrace:\n#0 0x556ab812afe3 <unknown>\n#1 0x556ab7e69d36 <unknown>\n#2 0x556ab7ea6c4d <unknown>\n#3 0x556ab7ea6d61 <unknown>\n#4 0x556ab7ee26a4 <unknown>\n#5 0x556ab7ec78ed <unknown>\n#6 0x556ab7ee0232 <unknown>\n#7 0x556ab7ec7693 <unknown>\n#8 0x556ab7e9a03a <unknown>\n#9 0x556ab7e9b17e <unknown>\n#10 0x556ab80ecdbd <unknown>\n#11 0x556ab80f0c6c <unknown>\n#12 0x556ab80fa4b0 <unknown>\n#13 0x556ab80f1d63 <unknown>\n#14 0x556ab80c4c35 <unknown>\n#15 0x556ab8115138 <unknown>\n#16 0x556ab81152c7 <unknown>\n#17 0x556ab8123093 <unknown>\n#18 0x7f13ecf0b609 start_thread\n",
     "output_type": "error",
     "traceback": [
      "\u001b[0;31m---------------------------------------------------------------------------\u001b[0m",
      "\u001b[0;31mNoSuchElementException\u001b[0m                    Traceback (most recent call last)",
      "Cell \u001b[0;32mIn[48], line 1\u001b[0m\n\u001b[0;32m----> 1\u001b[0m get_stock_details(\u001b[39m\"\u001b[39;49m\u001b[39mRELIANCE\u001b[39;49m\u001b[39m\"\u001b[39;49m)\n",
      "Cell \u001b[0;32mIn[47], line 12\u001b[0m, in \u001b[0;36mget_stock_details\u001b[0;34m(name)\u001b[0m\n\u001b[1;32m     10\u001b[0m driver\u001b[39m.\u001b[39mfind_element(By\u001b[39m.\u001b[39mXPATH,\u001b[39m\"\u001b[39m\u001b[39m//input[@id=\u001b[39m\u001b[39m'\u001b[39m\u001b[39mglobalSearch23\u001b[39m\u001b[39m'\u001b[39m\u001b[39m]\u001b[39m\u001b[39m\"\u001b[39m)\u001b[39m.\u001b[39msend_keys(Keys\u001b[39m.\u001b[39mENTER)\n\u001b[1;32m     11\u001b[0m time\u001b[39m.\u001b[39msleep(\u001b[39m2\u001b[39m)\n\u001b[0;32m---> 12\u001b[0m table \u001b[39m=\u001b[39m driver\u001b[39m.\u001b[39;49mfind_element(By\u001b[39m.\u001b[39;49mXPATH,\u001b[39m\"\u001b[39;49m\u001b[39m(//tbody)[1]\u001b[39;49m\u001b[39m\"\u001b[39;49m)\n\u001b[1;32m     13\u001b[0m trs \u001b[39m=\u001b[39m table\u001b[39m.\u001b[39mfind_elements(By\u001b[39m.\u001b[39mTAG_NAME,\u001b[39m\"\u001b[39m\u001b[39mtr\u001b[39m\u001b[39m\"\u001b[39m)\n\u001b[1;32m     14\u001b[0m \u001b[39mfor\u001b[39;00m tr \u001b[39min\u001b[39;00m trs:\n",
      "File \u001b[0;32m~/miniconda3/envs/gsoc/lib/python3.9/site-packages/selenium/webdriver/remote/webdriver.py:831\u001b[0m, in \u001b[0;36mWebDriver.find_element\u001b[0;34m(self, by, value)\u001b[0m\n\u001b[1;32m    828\u001b[0m     by \u001b[39m=\u001b[39m By\u001b[39m.\u001b[39mCSS_SELECTOR\n\u001b[1;32m    829\u001b[0m     value \u001b[39m=\u001b[39m \u001b[39mf\u001b[39m\u001b[39m'\u001b[39m\u001b[39m[name=\u001b[39m\u001b[39m\"\u001b[39m\u001b[39m{\u001b[39;00mvalue\u001b[39m}\u001b[39;00m\u001b[39m\"\u001b[39m\u001b[39m]\u001b[39m\u001b[39m'\u001b[39m\n\u001b[0;32m--> 831\u001b[0m \u001b[39mreturn\u001b[39;00m \u001b[39mself\u001b[39;49m\u001b[39m.\u001b[39;49mexecute(Command\u001b[39m.\u001b[39;49mFIND_ELEMENT, {\u001b[39m\"\u001b[39;49m\u001b[39musing\u001b[39;49m\u001b[39m\"\u001b[39;49m: by, \u001b[39m\"\u001b[39;49m\u001b[39mvalue\u001b[39;49m\u001b[39m\"\u001b[39;49m: value})[\u001b[39m\"\u001b[39m\u001b[39mvalue\u001b[39m\u001b[39m\"\u001b[39m]\n",
      "File \u001b[0;32m~/miniconda3/envs/gsoc/lib/python3.9/site-packages/selenium/webdriver/remote/webdriver.py:440\u001b[0m, in \u001b[0;36mWebDriver.execute\u001b[0;34m(self, driver_command, params)\u001b[0m\n\u001b[1;32m    438\u001b[0m response \u001b[39m=\u001b[39m \u001b[39mself\u001b[39m\u001b[39m.\u001b[39mcommand_executor\u001b[39m.\u001b[39mexecute(driver_command, params)\n\u001b[1;32m    439\u001b[0m \u001b[39mif\u001b[39;00m response:\n\u001b[0;32m--> 440\u001b[0m     \u001b[39mself\u001b[39;49m\u001b[39m.\u001b[39;49merror_handler\u001b[39m.\u001b[39;49mcheck_response(response)\n\u001b[1;32m    441\u001b[0m     response[\u001b[39m\"\u001b[39m\u001b[39mvalue\u001b[39m\u001b[39m\"\u001b[39m] \u001b[39m=\u001b[39m \u001b[39mself\u001b[39m\u001b[39m.\u001b[39m_unwrap_value(response\u001b[39m.\u001b[39mget(\u001b[39m\"\u001b[39m\u001b[39mvalue\u001b[39m\u001b[39m\"\u001b[39m, \u001b[39mNone\u001b[39;00m))\n\u001b[1;32m    442\u001b[0m     \u001b[39mreturn\u001b[39;00m response\n",
      "File \u001b[0;32m~/miniconda3/envs/gsoc/lib/python3.9/site-packages/selenium/webdriver/remote/errorhandler.py:245\u001b[0m, in \u001b[0;36mErrorHandler.check_response\u001b[0;34m(self, response)\u001b[0m\n\u001b[1;32m    243\u001b[0m         alert_text \u001b[39m=\u001b[39m value[\u001b[39m\"\u001b[39m\u001b[39malert\u001b[39m\u001b[39m\"\u001b[39m]\u001b[39m.\u001b[39mget(\u001b[39m\"\u001b[39m\u001b[39mtext\u001b[39m\u001b[39m\"\u001b[39m)\n\u001b[1;32m    244\u001b[0m     \u001b[39mraise\u001b[39;00m exception_class(message, screen, stacktrace, alert_text)  \u001b[39m# type: ignore[call-arg]  # mypy is not smart enough here\u001b[39;00m\n\u001b[0;32m--> 245\u001b[0m \u001b[39mraise\u001b[39;00m exception_class(message, screen, stacktrace)\n",
      "\u001b[0;31mNoSuchElementException\u001b[0m: Message: no such element: Unable to locate element: {\"method\":\"xpath\",\"selector\":\"(//tbody)[1]\"}\n  (Session info: chrome=112.0.5615.165)\nStacktrace:\n#0 0x556ab812afe3 <unknown>\n#1 0x556ab7e69d36 <unknown>\n#2 0x556ab7ea6c4d <unknown>\n#3 0x556ab7ea6d61 <unknown>\n#4 0x556ab7ee26a4 <unknown>\n#5 0x556ab7ec78ed <unknown>\n#6 0x556ab7ee0232 <unknown>\n#7 0x556ab7ec7693 <unknown>\n#8 0x556ab7e9a03a <unknown>\n#9 0x556ab7e9b17e <unknown>\n#10 0x556ab80ecdbd <unknown>\n#11 0x556ab80f0c6c <unknown>\n#12 0x556ab80fa4b0 <unknown>\n#13 0x556ab80f1d63 <unknown>\n#14 0x556ab80c4c35 <unknown>\n#15 0x556ab8115138 <unknown>\n#16 0x556ab81152c7 <unknown>\n#17 0x556ab8123093 <unknown>\n#18 0x7f13ecf0b609 start_thread\n"
     ]
    }
   ],
   "source": [
    "get_stock_details(\"RELIANCE\")"
   ]
  },
  {
   "cell_type": "code",
   "execution_count": null,
   "metadata": {},
   "outputs": [],
   "source": [
    "# col = []\n",
    "# results = []\n",
    "# col.append('Parameter')\n",
    "# results.append('results')\n",
    "# for i, res in enumerate(details_temp):\n",
    "#     if(i%2==0):\n",
    "#         col.append(res)\n",
    "#     else:\n",
    "#         results.append(res)\n",
    "\n",
    "# df = pd.DataFrame(results, index = col, columns=['0'])"
   ]
  },
  {
   "cell_type": "code",
   "execution_count": null,
   "metadata": {},
   "outputs": [],
   "source": []
  },
  {
   "cell_type": "code",
   "execution_count": null,
   "metadata": {},
   "outputs": [],
   "source": [
    "# print(df)\n",
    "# temp = df.transpose()"
   ]
  },
  {
   "cell_type": "code",
   "execution_count": null,
   "metadata": {},
   "outputs": [],
   "source": []
  }
 ],
 "metadata": {
  "kernelspec": {
   "display_name": "gsoc",
   "language": "python",
   "name": "python3"
  },
  "language_info": {
   "codemirror_mode": {
    "name": "ipython",
    "version": 3
   },
   "file_extension": ".py",
   "mimetype": "text/x-python",
   "name": "python",
   "nbconvert_exporter": "python",
   "pygments_lexer": "ipython3",
   "version": "3.9.16"
  },
  "orig_nbformat": 4
 },
 "nbformat": 4,
 "nbformat_minor": 2
}
